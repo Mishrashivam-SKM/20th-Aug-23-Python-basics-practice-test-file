{
 "cells": [
  {
   "cell_type": "markdown",
   "id": "83a06384-01af-47f6-9917-9f19434a273b",
   "metadata": {},
   "source": [
    "String Based Assignment Problem"
   ]
  },
  {
   "cell_type": "code",
   "execution_count": 1,
   "id": "dcf60ac8-26b2-4898-9a8e-ef2abf95937e",
   "metadata": {},
   "outputs": [
    {
     "data": {
      "text/plain": [
       "'dlrow olleh'"
      ]
     },
     "execution_count": 1,
     "metadata": {},
     "output_type": "execute_result"
    }
   ],
   "source": [
    "#Q1]\n",
    "#creating a string\n",
    "s = 'hello world'\n",
    "#reversing the string using string slicing\n",
    "s[::-1]"
   ]
  },
  {
   "cell_type": "code",
   "execution_count": 2,
   "id": "6f09f350-d394-4843-803f-0eb7fd2dc042",
   "metadata": {},
   "outputs": [
    {
     "name": "stdout",
     "output_type": "stream",
     "text": [
      "String is not Palindrome\n"
     ]
    }
   ],
   "source": [
    "#Q2]\n",
    "#creating a string\n",
    "s = 'hello world'\n",
    "#Checking the condition for palindrome usingxx if/else block\n",
    "#the baisc palindrome condtion is being checked using equality operator(which returns true/false which depends on satisfying the given condition) and concept of slicing\n",
    "if s==s[::-1]:\n",
    "    print(\"Stirng is Palindrome\")\n",
    "else:\n",
    "    print(\"String is not Palindrome\")"
   ]
  },
  {
   "cell_type": "code",
   "execution_count": 3,
   "id": "3fb9ec50-d522-402d-8934-8b18986a69a6",
   "metadata": {},
   "outputs": [
    {
     "data": {
      "text/plain": [
       "'HELLO WORLD'"
      ]
     },
     "execution_count": 3,
     "metadata": {},
     "output_type": "execute_result"
    }
   ],
   "source": [
    "#Q3]\n",
    "#creating a string\n",
    "s = 'hello world'\n",
    "#converting the string to upper case using inbuilt method\n",
    "s.upper()"
   ]
  },
  {
   "cell_type": "code",
   "execution_count": 4,
   "id": "72ebc9fa-33b0-41c1-bb81-f2c1b562bccc",
   "metadata": {},
   "outputs": [
    {
     "data": {
      "text/plain": [
       "'hello world'"
      ]
     },
     "execution_count": 4,
     "metadata": {},
     "output_type": "execute_result"
    }
   ],
   "source": [
    "#Q4]\n",
    "#creating a string\n",
    "s = 'hello world'\n",
    "#converting the string to lower case using inbuilt method\n",
    "s.lower()"
   ]
  },
  {
   "cell_type": "code",
   "execution_count": 5,
   "id": "3262034a-5348-4490-a4ad-634eeebf03df",
   "metadata": {},
   "outputs": [
    {
     "name": "stdout",
     "output_type": "stream",
     "text": [
      "Vowels = 3\n"
     ]
    }
   ],
   "source": [
    "#Q5]\n",
    "#creating a string\n",
    "s = \"hello world\"\n",
    "#counting the vowels using inbuilt method count()\n",
    "print(f\"Vowels = {s.count('a')+s.count('e')+s.count('i')+s.count('o')+s.count('u')}\")"
   ]
  },
  {
   "cell_type": "code",
   "execution_count": 7,
   "id": "91be32b9-29ef-4fa3-b93f-15f1dfd85ea8",
   "metadata": {},
   "outputs": [
    {
     "name": "stdout",
     "output_type": "stream",
     "text": [
      "Consonants = 14\n"
     ]
    }
   ],
   "source": [
    "#Q6]\n",
    "#creating a string\n",
    "s = \"hello world\"\n",
    "#counting the consonants using inbuilt method count()\n",
    "print(f\"Consonants = {len(s) - s.count('a')+s.count('e')+s.count('i')+s.count('o')+s.count('u')}\")"
   ]
  },
  {
   "cell_type": "code",
   "execution_count": 15,
   "id": "80794d26-04cb-4ab6-b3dd-5c2c2cba5c1d",
   "metadata": {},
   "outputs": [
    {
     "name": "stdout",
     "output_type": "stream",
     "text": [
      "helloworld\n",
      "helloworld\n"
     ]
    }
   ],
   "source": [
    "#Q7]\n",
    "#creating a string\n",
    "s = \"hello world\"\n",
    "#removing the white spaces from string using inbuilt method replace\n",
    "print(s.replace(\" \",\"\"))\n",
    "#method 2 using split and join method\n",
    "print(\"\".join(s.split()))"
   ]
  },
  {
   "cell_type": "code",
   "execution_count": 26,
   "id": "f4bf2524-7563-4a00-9ba7-6c5b1a8e65df",
   "metadata": {},
   "outputs": [
    {
     "name": "stdout",
     "output_type": "stream",
     "text": [
      "len of string = 11\n"
     ]
    }
   ],
   "source": [
    "#Q8]\n",
    "#creating a string s and counter c = 0\n",
    "s = \"hello world\"\n",
    "c = 0\n",
    "#using for loop to iterate the string\n",
    "for i in s:\n",
    "    #calculating the len of string with each iteration\n",
    "    c+=1\n",
    "#printing the len using print function \n",
    "print(f\"len of string = {c}\")"
   ]
  },
  {
   "cell_type": "code",
   "execution_count": 19,
   "id": "13e12cc7-f556-4c8f-bc01-5ebfa7763b7a",
   "metadata": {},
   "outputs": [
    {
     "data": {
      "text/plain": [
       "6"
      ]
     },
     "execution_count": 19,
     "metadata": {},
     "output_type": "execute_result"
    }
   ],
   "source": [
    "#Q9]\n",
    "#creating a string\n",
    "s = \"hello world\"\n",
    "#checking for a specific word using .find() method. returns -1 if word not found\n",
    "s.find('world')"
   ]
  },
  {
   "cell_type": "code",
   "execution_count": 16,
   "id": "f2e4e441-021a-417b-b413-cafc3bd85aee",
   "metadata": {},
   "outputs": [
    {
     "data": {
      "text/plain": [
       "'bye world'"
      ]
     },
     "execution_count": 16,
     "metadata": {},
     "output_type": "execute_result"
    }
   ],
   "source": [
    "#Q10]\n",
    "#creating a string\n",
    "s = \"hello world\"\n",
    "#replacing hello with bye using inbuilt method replace\n",
    "s.replace(\"hello\",\"bye\")"
   ]
  },
  {
   "cell_type": "code",
   "execution_count": 1,
   "id": "5789447e-8449-46a4-ba6e-55a22331c72d",
   "metadata": {},
   "outputs": [
    {
     "data": {
      "text/plain": [
       "1"
      ]
     },
     "execution_count": 1,
     "metadata": {},
     "output_type": "execute_result"
    }
   ],
   "source": [
    "#Q11]\n",
    "#creating a string\n",
    "s = \"hello world\"\n",
    "#counting the number of occurences of a word in an string using count() method\n",
    "s.count('hello')"
   ]
  },
  {
   "cell_type": "code",
   "execution_count": 1,
   "id": "d55d54f6-a6c9-46dc-8684-947afdfe27e3",
   "metadata": {},
   "outputs": [
    {
     "data": {
      "text/plain": [
       "0"
      ]
     },
     "execution_count": 1,
     "metadata": {},
     "output_type": "execute_result"
    }
   ],
   "source": [
    "#Q12]\n",
    "#creating a string\n",
    "s = \"hello world hello world hello world\"\n",
    "#using .find() method to find the first occurence of a word\n",
    "s.find(\"hello\")"
   ]
  },
  {
   "cell_type": "code",
   "execution_count": 3,
   "id": "b6709e4b-5c44-4a75-9236-22f80d23d09c",
   "metadata": {},
   "outputs": [
    {
     "data": {
      "text/plain": [
       "30"
      ]
     },
     "execution_count": 3,
     "metadata": {},
     "output_type": "execute_result"
    }
   ],
   "source": [
    "#Q13]\n",
    "#creating a string\n",
    "s = \"hello world hello world hello world\"\n",
    "#using .rfind() method to find the last occurence of a word\n",
    "s.rfind('world')"
   ]
  },
  {
   "cell_type": "code",
   "execution_count": 4,
   "id": "9b1a2cec-f16b-4b92-9b9d-8216095f84b5",
   "metadata": {},
   "outputs": [
    {
     "data": {
      "text/plain": [
       "['hello', 'world', 'hello', 'world', 'hello', 'world']"
      ]
     },
     "execution_count": 4,
     "metadata": {},
     "output_type": "execute_result"
    }
   ],
   "source": [
    "#Q14]\n",
    "#creating a string\n",
    "s = \"hello world hello world hello world\"\n",
    "#using .split method to split the string into list of words\n",
    "s.split()"
   ]
  },
  {
   "cell_type": "code",
   "execution_count": 8,
   "id": "bf322cac-ef1b-4d17-8938-8fef9e725fe0",
   "metadata": {},
   "outputs": [
    {
     "data": {
      "text/plain": [
       "'helloworldhelloworldhelloworld'"
      ]
     },
     "execution_count": 8,
     "metadata": {},
     "output_type": "execute_result"
    }
   ],
   "source": [
    "#Q15]\n",
    "#creating a list of words\n",
    "l = ['hello', 'world', 'hello', 'world', 'hello', 'world']\n",
    "#using .join() method to join the list of words into a string\n",
    "\"\".join(l)"
   ]
  },
  {
   "cell_type": "code",
   "execution_count": 13,
   "id": "db156c3c-18eb-4754-b926-7223046d3e37",
   "metadata": {},
   "outputs": [
    {
     "name": "stdout",
     "output_type": "stream",
     "text": [
      "Method 1\n",
      "hello_world_hello_world_hello_world\n",
      "Method 2\n",
      "hello_world_hello_world_hello_world\n"
     ]
    }
   ],
   "source": [
    "#Q16]\n",
    "#creating a string of words seprated by spaces\n",
    "s = \"hello world hello world hello world\"\n",
    "#to convert this to a string of words seprated by underscores, we are using .replace()\n",
    "print(f'Method 1\\n{s.replace(\" \",\"_\")}')\n",
    "#if the spaces between words are uneven then using .split to make a list of words and then joining these words using .join() method to add underscores\n",
    "s = \"hello   world  hello  world hello world\" \n",
    "print(f'Method 2\\n{\"_\".join(s.split())}')"
   ]
  },
  {
   "cell_type": "code",
   "execution_count": 14,
   "id": "c3903f4c-7da6-452d-aa25-a6985b8dac34",
   "metadata": {},
   "outputs": [
    {
     "data": {
      "text/plain": [
       "True"
      ]
     },
     "execution_count": 14,
     "metadata": {},
     "output_type": "execute_result"
    }
   ],
   "source": [
    "#Q17]\n",
    "#Creating a string of sentence\n",
    "s = \"I am solving the python basic data types practice paper\"\n",
    "#using .startswith() method to check if the string starts with a particular word.Return True if S starts with the specified prefix, False otherwise.\n",
    "s.startswith(\"I\")\n"
   ]
  },
  {
   "cell_type": "code",
   "execution_count": 15,
   "id": "934a053f-d999-40be-8dbe-9b32a9bcfe93",
   "metadata": {},
   "outputs": [
    {
     "data": {
      "text/plain": [
       "True"
      ]
     },
     "execution_count": 15,
     "metadata": {},
     "output_type": "execute_result"
    }
   ],
   "source": [
    "#Q18]\n",
    "#Creating a string of sentence\n",
    "s = \"I am solving the python basic data types practice paper\"\n",
    "#using .endswith() method to check if the string ends with a particular word. Return True if S ends with the specified suffix, False otherwise.\n",
    "s.endswith(\"paper\")"
   ]
  },
  {
   "cell_type": "code",
   "execution_count": 16,
   "id": "af2eb47e-dec3-479e-8295-5c4c677ce43b",
   "metadata": {},
   "outputs": [
    {
     "data": {
      "text/plain": [
       "'Hello World'"
      ]
     },
     "execution_count": 16,
     "metadata": {},
     "output_type": "execute_result"
    }
   ],
   "source": [
    "#19]\n",
    "#creating a string\n",
    "s = \"hello world\"\n",
    "#using .title() method to conver the string to title case\n",
    "s.title()"
   ]
  },
  {
   "cell_type": "code",
   "execution_count": 23,
   "id": "fc569e4d-cb26-4cae-9785-9e9d48fbd32e",
   "metadata": {},
   "outputs": [
    {
     "name": "stdout",
     "output_type": "stream",
     "text": [
      "Longest word = shortest\n"
     ]
    }
   ],
   "source": [
    "#20]\n",
    "#Creating a string\n",
    "s = \"Writing python script to find longest or shortest word in a string\"\n",
    "#using .split() method to split the string to list of words\n",
    "l = s.split()\n",
    "#creating a variable to compare the length of each word in string.\n",
    "c = l[0]\n",
    "#using in membership operator to assign items of a list to i\n",
    "for i in l:\n",
    "    #comparing length of each word\n",
    "    if len(i)>len(c):\n",
    "        #updating the word if length is longer\n",
    "        c = i\n",
    "    #printing the longest word\n",
    "print(f\"Longest word = {c}\")"
   ]
  },
  {
   "cell_type": "code",
   "execution_count": 25,
   "id": "58a81472-4e4b-4d92-8f40-64eb42330a25",
   "metadata": {},
   "outputs": [
    {
     "name": "stdout",
     "output_type": "stream",
     "text": [
      "Shortest word = a\n"
     ]
    }
   ],
   "source": [
    "#21]\n",
    "#Creating a string\n",
    "s = \"Writing python script to find longest or shortest word in a string\"\n",
    "#using .split() method to split the string to list of words\n",
    "l = s.split()\n",
    "#creating a variable to compare the length of each word in string.\n",
    "c = l[0]\n",
    "#using in membership operator to assign items of a list to i\n",
    "for i in l:\n",
    "    #comparing length of each word\n",
    "    if len(i)<=len(c):\n",
    "        #updating the word if length is shorter\n",
    "        c = i\n",
    "    #printing the shortest word\n",
    "print(f\"Shortest word = {c}\")"
   ]
  },
  {
   "cell_type": "code",
   "execution_count": 26,
   "id": "eb5462ad-311f-4c77-bcf4-d9922f8d94d3",
   "metadata": {},
   "outputs": [
    {
     "data": {
      "text/plain": [
       "'words of order the reverse to script python a writing'"
      ]
     },
     "execution_count": 26,
     "metadata": {},
     "output_type": "execute_result"
    }
   ],
   "source": [
    "#22]\n",
    "#creating a string of words\n",
    "s = \"writing a python script to reverse the order of words\" \n",
    "#using .split method to create a list of words\n",
    "l = s.split()\n",
    "#reversing the order of words using list comprehension and then joing it with spaces using .join() mehtod\n",
    "\" \".join(l[::-1])"
   ]
  },
  {
   "cell_type": "code",
   "execution_count": 2,
   "id": "d6e132a7-c425-4112-b690-78caf924f6b1",
   "metadata": {},
   "outputs": [
    {
     "name": "stdout",
     "output_type": "stream",
     "text": [
      "False\n"
     ]
    }
   ],
   "source": [
    "#23]\n",
    "#creating a string of words\n",
    "s = \"writing a python script\" \n",
    "#using isalnum() method to check if the string is alphanumeric\n",
    "print(s.isalnum())\n"
   ]
  },
  {
   "cell_type": "code",
   "execution_count": 16,
   "id": "fa02b05d-0972-48de-8659-897a411cb839",
   "metadata": {},
   "outputs": [
    {
     "name": "stdout",
     "output_type": "stream",
     "text": [
      "Sting : 12writing a 45python 0 script1\n",
      "Method 1\n",
      "1 2 4 5 0 1 \n",
      "Method 2\n",
      "1 2 4 5 0 1 "
     ]
    }
   ],
   "source": [
    "#24]\n",
    "#creating a string \n",
    "s = \"12writing a 45python 0 script1\" \n",
    "print(f\"Sting : {s}\")\n",
    "#Method 1\n",
    "#using for loop to iterate individual characters\n",
    "print(\"Method 1\")\n",
    "for i in range(len(s)):\n",
    "    #this is used for checking if it is a digit\n",
    "    if s[i] in '0 1 2 3 4 5 6 7 8 9'.split():\n",
    "        print(f\"{s[i]}\", end=\" \")\n",
    "#Method 2\n",
    "#using for loop to iterate individual characters\n",
    "print(\"\\nMethod 2\")\n",
    "for i in range(len(s)):\n",
    "    #this is used for checking if it is a digit\n",
    "    if s[i].isdigit():\n",
    "        print(f\"{s[i]}\",end=\" \")"
   ]
  },
  {
   "cell_type": "code",
   "execution_count": 17,
   "id": "3bbb7654-c9ee-49f7-ba06-d53f0e7f05ff",
   "metadata": {},
   "outputs": [
    {
     "name": "stdout",
     "output_type": "stream",
     "text": [
      "w r i t i n g a p y t h o n s c r i p t "
     ]
    }
   ],
   "source": [
    "#25]\n",
    "#creating a string \n",
    "s = \"12writing a 45python 0 script1\" \n",
    "#Method 1\n",
    "#using for loop to iterate individual characters\n",
    "for i in range(len(s)):\n",
    "    #this is used for checking if it is an alphabet\n",
    "    if s[i].isalpha():\n",
    "        print(f\"{s[i]}\",end=\" \")\n",
    "#there are more ways to acheive the results, for ex- using ascii values we can seprate numbers.\n"
   ]
  },
  {
   "cell_type": "code",
   "execution_count": 22,
   "id": "a0f58b1f-ad4d-4ca1-9363-e619c0dbbcf6",
   "metadata": {},
   "outputs": [
    {
     "name": "stdout",
     "output_type": "stream",
     "text": [
      "Uppercase Letter : 10\n"
     ]
    }
   ],
   "source": [
    "#26]\n",
    "#creating a string\n",
    "s = \"This string ConTains UppeRCase WoRDS\"\n",
    "#using for loop to iterate individual characters and defining c counter =0\n",
    "c=0\n",
    "for i in range(len(s)):\n",
    "     #this is used for checking if it is an Uppercase letter\n",
    "    if s[i].isupper():\n",
    "        c+=1\n",
    "print(f\"Uppercase Letter : {c}\")\n",
    "#there are more ways to acheive the results, for ex- using ascii values we can count uppercase characters.\n"
   ]
  },
  {
   "cell_type": "code",
   "execution_count": 24,
   "id": "1823a23d-55b6-46c7-a7ee-7ebc612d93b1",
   "metadata": {},
   "outputs": [
    {
     "name": "stdout",
     "output_type": "stream",
     "text": [
      "Uppercase Letter : 24\n"
     ]
    }
   ],
   "source": [
    "#27]\n",
    "#creating a string\n",
    "s = \"This string ConTains lowerCase WoRDS\"\n",
    "#using for loop to iterate individual characters and defining c counter =0\n",
    "c=0\n",
    "for i in range(len(s)):\n",
    "     #this is used for checking if it is an lowercase letter\n",
    "    if s[i].islower():\n",
    "        c+=1\n",
    "print(f\"Uppercase Letter : {c}\")\n",
    "#there are more ways to acheive the results, for ex- using ascii values we can count lower characters.\n"
   ]
  },
  {
   "cell_type": "code",
   "execution_count": 25,
   "id": "32a0e4a1-21b3-4231-b22f-086df24cadf1",
   "metadata": {},
   "outputs": [
    {
     "data": {
      "text/plain": [
       "'tHIS STRING cONtAINS wOrds'"
      ]
     },
     "execution_count": 25,
     "metadata": {},
     "output_type": "execute_result"
    }
   ],
   "source": [
    "#28]\n",
    "#creating a string\n",
    "s = \"This string ConTains WoRDS\"\n",
    "#using this method to swap the case of string \n",
    "s.swapcase()\n",
    "#this can be acheived using different methods. For ex- iterating the string, individually checking for uppercase and lower case characters, and swapping them"
   ]
  },
  {
   "cell_type": "code",
   "execution_count": 26,
   "id": "7675e6ef-efeb-4cfd-9df6-13dc35a55bbc",
   "metadata": {},
   "outputs": [
    {
     "data": {
      "text/plain": [
       "'This ConTains WoRDS'"
      ]
     },
     "execution_count": 26,
     "metadata": {},
     "output_type": "execute_result"
    }
   ],
   "source": [
    "#29]\n",
    "#creating a string\n",
    "s = \"This string ConTains WoRDS\"\n",
    "#removing a specific word by converting the string to list and using .remove() method\n",
    "l = s.split()\n",
    "l.remove('string')\n",
    "#this is used to convert the string to list\n",
    "\" \".join(l)\n",
    "#there are more methods to acheive this. By using replace we can do it\n"
   ]
  },
  {
   "cell_type": "code",
   "execution_count": 34,
   "id": "2366838c-98ba-47dd-850b-d9a41f9ba006",
   "metadata": {},
   "outputs": [
    {
     "name": "stdout",
     "output_type": "stream",
     "text": [
      "Invalid email address\n"
     ]
    }
   ],
   "source": [
    "#30]\n",
    "#creating a string\n",
    "s = \"@.com\"\n",
    "l = s.split('@')\n",
    "#checking for a valid email address\n",
    "#an email address should consist @ and .com with domain name and username\n",
    "if '@' in s and '.com' in s and len(l[1])>4 and len(l[0])>0:\n",
    "    print(\"Valid email address\")\n",
    "else:\n",
    "    print(\"Invalid email address\")"
   ]
  },
  {
   "cell_type": "code",
   "execution_count": 35,
   "id": "777e64a5-85fd-4fe2-a710-094424a50951",
   "metadata": {},
   "outputs": [
    {
     "name": "stdout",
     "output_type": "stream",
     "text": [
      "Username : alpha23\n"
     ]
    }
   ],
   "source": [
    "#31]\n",
    "#creating an email address string\n",
    "s = 'alpha23@gmail.com'\n",
    "#creating a list of username and domain name\n",
    "l = s.split('@')\n",
    "#printing username\n",
    "print(f'Username : {l[0]}')\n",
    "#there are more methods to acheive this"
   ]
  },
  {
   "cell_type": "code",
   "execution_count": 36,
   "id": "e661d119-5d59-4adb-90cd-44cedbf8c1a2",
   "metadata": {},
   "outputs": [
    {
     "name": "stdout",
     "output_type": "stream",
     "text": [
      "Username : gmail.com\n"
     ]
    }
   ],
   "source": [
    "#32]\n",
    "#creating an email address string\n",
    "s = 'alpha23@gmail.com'\n",
    "#creating a list of username and domain name\n",
    "l = s.split('@')\n",
    "#printing the domain name\n",
    "print(f'Username : {l[1]}')\n",
    "#there are various methods to acheive this\n"
   ]
  },
  {
   "cell_type": "code",
   "execution_count": 38,
   "id": "ad14fc01-94be-437c-a982-3fe3067376ad",
   "metadata": {},
   "outputs": [
    {
     "name": "stdout",
     "output_type": "stream",
     "text": [
      "Creating multiple spaces stirng\n"
     ]
    }
   ],
   "source": [
    "#33]\n",
    "#creating a string with multiple spaces\n",
    "s = 'Creating multiple  spaces  stirng '\n",
    "#splitting th e string to list and then joing the list with individual space\n",
    "print(\" \".join(s.split()))"
   ]
  },
  {
   "cell_type": "code",
   "execution_count": 6,
   "id": "cececd25-a0c7-472e-97f7-def4111df34b",
   "metadata": {},
   "outputs": [
    {
     "name": "stdin",
     "output_type": "stream",
     "text": [
      "Enter an URL https://www.example.com/path/to/resource?param=value#section\n"
     ]
    },
    {
     "name": "stdout",
     "output_type": "stream",
     "text": [
      "Valid Url\n"
     ]
    }
   ],
   "source": [
    "#Q34]\n",
    "url = input(\"Enter an URL\")\n",
    "common_tlds = [\n",
    "    \"com\",\n",
    "    \"org\",\n",
    "    \"net\",\n",
    "    \"edu\",\n",
    "    \"gov\",\n",
    "    \"int\",\n",
    "    \"mil\",\n",
    "    \"us\",\n",
    "    \"uk\",\n",
    "    \"de\",\n",
    "    \"fr\",\n",
    "    \"jp\",\n",
    "    \"au\",\n",
    "    \"ca\",\n",
    "    \"info\",\n",
    "    \"biz\",\n",
    "    \"name\",\n",
    "    \"pro\",\n",
    "    \"museum\",\n",
    "    \"aero\",\n",
    "    \"coop\"\n",
    "]\n",
    "#checking for most common usl requirements such as . and https protocol\n",
    "if '.' not in url and url.startswith((\"http://\", \"https://\"))==False:\n",
    "    print(\"Invalid URL\")\n",
    "else:\n",
    "    #finding TLD in the entered URL and checking for its validity\n",
    "    url_split = url.split('/')\n",
    "    url_tld = url_split[2].split('.')\n",
    "    if url_tld[-1] in common_tlds :\n",
    "        print(\"Valid Url\")\n",
    "    else:\n",
    "        print(\"Invalid Url\")"
   ]
  },
  {
   "cell_type": "code",
   "execution_count": 8,
   "id": "c2c7d6d9-c57d-45b9-a0c1-c0d635e4f7c3",
   "metadata": {},
   "outputs": [
    {
     "name": "stdin",
     "output_type": "stream",
     "text": [
      "Enter the url https://www.example.com/path/to/resource?param=value#section\n"
     ]
    },
    {
     "name": "stdout",
     "output_type": "stream",
     "text": [
      "Protocol : https\n"
     ]
    }
   ],
   "source": [
    "#Q35]\n",
    "#taking url form the user and spliting it \n",
    "url = input(\"Enter the url\").split(':')\n",
    "#we know tha the protocol is at the start of the list \n",
    "protocol_url = url[0]\n",
    "print(f\"Protocol : {protocol_url}\")\n",
    "https://www.example.com/path/to/resource?param=value#section"
   ]
  },
  {
   "cell_type": "code",
   "execution_count": 12,
   "id": "bc77b98f-6fa6-4760-81dd-250e708287f7",
   "metadata": {},
   "outputs": [
    {
     "name": "stdout",
     "output_type": "stream",
     "text": [
      "Frequency of t : 3\n",
      "Frequency of f : 3\n",
      "Frequency of q : 1\n",
      "Frequency of u : 1\n",
      "Frequency of h : 2\n",
      "Frequency of o : 2\n",
      "Frequency of g : 1\n",
      "Frequency of s : 1\n",
      "Frequency of   : 8\n",
      "Frequency of i : 3\n",
      "Frequency of d : 1\n",
      "Frequency of e : 4\n",
      "Frequency of n : 4\n",
      "Frequency of c : 4\n",
      "Frequency of y : 1\n",
      "Frequency of a : 4\n",
      "Frequency of r : 4\n"
     ]
    }
   ],
   "source": [
    "#Q36]\n",
    "#creating a string\n",
    "string = \"to find frequency of each character in a string\"\n",
    "#type casting it to set to find all the unique characters \n",
    "set_str = set(string)\n",
    "#using for loop and .count() method to find the frequency of each character\n",
    "for i in set_str:\n",
    "    print(f\"Frequency of {i} : {string.count(i)}\")\n",
    "                          "
   ]
  },
  {
   "cell_type": "code",
   "execution_count": 22,
   "id": "ca537a5d-8430-4e60-9589-a3af1ebb4508",
   "metadata": {},
   "outputs": [
    {
     "name": "stdout",
     "output_type": "stream",
     "text": [
      "The punctuation in this string is incorrect \n"
     ]
    }
   ],
   "source": [
    "#Q37]\n",
    "#creating a string\n",
    "str_punctuation_list = list(\"The punctuation, in this string, is, incorrect!... \")\n",
    "clean_str_list = []\n",
    "#using for loop, ascii characters and ord() function we are removing the punctuations\n",
    "for i in str_punctuation:\n",
    "    if ord(i) not in list(range(33,48)) and ord(i) not in list(range(58,65)) and ord(i) not in list(range(91,97)) and ord(i) not in list(range(123,127)):\n",
    "        clean_str_list.append(i)\n",
    "print(\"\".join(clean_str_list))"
   ]
  },
  {
   "cell_type": "code",
   "execution_count": 25,
   "id": "9646e02e-974a-45d5-ae2b-6a8c84213de6",
   "metadata": {},
   "outputs": [
    {
     "name": "stdout",
     "output_type": "stream",
     "text": [
      "False\n"
     ]
    }
   ],
   "source": [
    "#Q38]\n",
    "#Creating a string\n",
    "string = 'This is a string'\n",
    "#checking if it contains only digits using .isdigit()  method\n",
    "print(string.isdigit())"
   ]
  },
  {
   "cell_type": "code",
   "execution_count": 26,
   "id": "d132de4a-24e2-4e4c-8a0f-9a6e4cef3859",
   "metadata": {},
   "outputs": [
    {
     "name": "stdout",
     "output_type": "stream",
     "text": [
      "False\n"
     ]
    }
   ],
   "source": [
    "#Q39]\n",
    "#Creating a string\n",
    "string = 'This is a string'\n",
    "#checking if it contains only alphabets using .isalpha() method\n",
    "print(string.isalpha())"
   ]
  },
  {
   "cell_type": "code",
   "execution_count": 27,
   "id": "fd18214c-e812-4769-80d4-544b9e62d7ec",
   "metadata": {},
   "outputs": [
    {
     "name": "stdout",
     "output_type": "stream",
     "text": [
      "['T', 'h', 'i', 's', ' ', 'i', 's', ' ', 'a', ' ', 's', 't', 'r', 'i', 'n', 'g']\n"
     ]
    }
   ],
   "source": [
    "#Q40]\n",
    "#Creating a string\n",
    "string = 'This is a string'\n",
    "#converted string to list of characters\n",
    "print(list(string))"
   ]
  },
  {
   "cell_type": "code",
   "execution_count": 32,
   "id": "e5062301-15b6-4432-973e-a1a23961dec5",
   "metadata": {},
   "outputs": [
    {
     "name": "stdout",
     "output_type": "stream",
     "text": [
      "They are anagrams\n"
     ]
    }
   ],
   "source": [
    "#Q41]\n",
    "#creating two strings \n",
    "s1 = 'silent'\n",
    "s2 = 'listen'\n",
    "#sorting the strings to check if they are anagrams because if they are made up of same characters then after sorting both will be equal\n",
    "\n",
    "if sorted(s1) == sorted(s2):\n",
    "    print('They are anagrams')\n",
    "else:\n",
    "    print('They are not anagrams')"
   ]
  },
  {
   "cell_type": "code",
   "execution_count": 58,
   "id": "e56087cf-4470-43b2-818e-6ed03a4b5772",
   "metadata": {},
   "outputs": [
    {
     "name": "stdin",
     "output_type": "stream",
     "text": [
      "Enter the shift 1\n"
     ]
    },
    {
     "name": "stdout",
     "output_type": "stream",
     "text": [
      "Encoded String :\n",
      "UIF rVJDL CSPXO GPY KVNQT PWFS UIF MBAZ EPH\n"
     ]
    }
   ],
   "source": [
    "#Q42]\n",
    "#creating a string\n",
    "string_list = \"THE qUICK BROWN FOX JUMPS OVER THE LAZY DOG\".split()\n",
    "shift = int(input(\"Enter the shift\"))\n",
    "encrypted_list = []\n",
    "#checking if the shift if positive\n",
    "if shift>0:\n",
    "    #iterating words\n",
    "    for word in string_list:\n",
    "        encrypted_word = \"\"\n",
    "        #iterating characters\n",
    "        for char in word:\n",
    "            #checking if the shift is greater than 26.If it is greater than 26 then reducing it to original shift\n",
    "            if shift>26:\n",
    "                shift %= 26\n",
    "            encrypted_chr = ord(char)+shift\n",
    "            #if the ascii value is in this range then converting it to charater. else subtracting 26 and then converting it to character\n",
    "            if 65<=encrypted_chr<=90 or 97<=encrypted_chr<=122:\n",
    "                encrypted_word += chr(encrypted_chr)\n",
    "            else:\n",
    "                encrypted_chr -= 26\n",
    "                encrypted_word += chr(encrypted_chr)\n",
    "        encrypted_list.append(encrypted_word)\n",
    "        #printing encrypter String\n",
    "    print(f'Encoded String :\\n{\" \".join(encrypted_list)}')\n",
    "        \n",
    "else:\n",
    "    print(\"Enter valid shift\")"
   ]
  },
  {
   "cell_type": "code",
   "execution_count": 60,
   "id": "d2d34c8e-55e1-44c3-b7ba-51c233f4f96f",
   "metadata": {},
   "outputs": [
    {
     "name": "stdin",
     "output_type": "stream",
     "text": [
      "Enter the shift 1\n"
     ]
    },
    {
     "name": "stdout",
     "output_type": "stream",
     "text": [
      "Encoded String :\n",
      "THE qUICK BROWN FOX JUMPS OVER THE LAZY DOG\n"
     ]
    }
   ],
   "source": [
    "#Q43]\n",
    "#creating an ecoded string\n",
    "string_list = 'UIF rVJDL CSPXO GPY KVNQT PWFS UIF MBAZ EPH'.split()\n",
    "shift = int(input(\"Enter the shift\"))\n",
    "decrypted_list = []\n",
    "if shift>0:\n",
    "    #iterating words\n",
    "    for word in string_list:\n",
    "        decrypted_word = \"\"\n",
    "        #iterating characters\n",
    "        for char in word:\n",
    "            #checking if the shift is greater than 26.If it is greater than 26 then reducing it to original shift\n",
    "            if shift>26:\n",
    "                shift %= 26\n",
    "            decrypted_chr = ord(char)-shift\n",
    "            #if the ascii value is in this range then converting it to charater. else subtracting 26 and then converting it to character\n",
    "            if 65<=decrypted_chr<=90 or 97<=decrypted_chr<=122:\n",
    "                decrypted_word += chr(decrypted_chr)\n",
    "            else:\n",
    "                decrypted_chr += 26\n",
    "                decrypted_word += chr(decrypted_chr)\n",
    "        decrypted_list.append(decrypted_word)\n",
    "        #printing encrypter String\n",
    "    print(f'Encoded String :\\n{\" \".join(decrypted_list)}')\n",
    "        \n",
    "else:\n",
    "    print(\"Enter valid shift\")"
   ]
  },
  {
   "cell_type": "code",
   "execution_count": 40,
   "id": "f53191d8-8ea2-45c6-89c9-a81d8bc3f637",
   "metadata": {},
   "outputs": [
    {
     "name": "stdout",
     "output_type": "stream",
     "text": [
      "Most frequent word: the\n"
     ]
    }
   ],
   "source": [
    "#Q44]\n",
    "#creating a string\n",
    "string = 'to find the most frequent word in the string'\n",
    "list_str = string.split()\n",
    "unique_words = set(string.split())\n",
    "most_frequent = string.split()[0]  \n",
    "\n",
    "for word in unique_words:\n",
    "    if list_str.count(word) > list_str.count(most_frequent):\n",
    "        most_frequent = word\n",
    "\n",
    "print(\"Most frequent word:\", most_frequent)\n"
   ]
  },
  {
   "cell_type": "code",
   "execution_count": 63,
   "id": "b491f26f-0c64-4b3f-a1a6-e45a2dc6c055",
   "metadata": {},
   "outputs": [
    {
     "name": "stdout",
     "output_type": "stream",
     "text": [
      "Unique Words :\n",
      "hello\n",
      "everywhere\n",
      "the\n",
      "here\n",
      "Hello\n"
     ]
    }
   ],
   "source": [
    "#Q45]\n",
    "#creating a string of words\n",
    "s = \"Hello the hello here hello everywhere\".split()\n",
    "#to find all unique words converting it too set and traversing the set\n",
    "print(\"Unique Words :\")\n",
    "for i in set(s) :\n",
    "    print(i)"
   ]
  },
  {
   "cell_type": "code",
   "execution_count": 3,
   "id": "bb437e38-c90a-439c-b803-6d89b3da7f84",
   "metadata": {},
   "outputs": [
    {
     "name": "stdout",
     "output_type": "stream",
     "text": [
      "Syllable Count : 3\n"
     ]
    }
   ],
   "source": [
    "#Q46]\n",
    "#creating a string\n",
    "s = 'hello world'.lower()\n",
    "syllable_count = 0\n",
    "# Iterate through each character in the string\n",
    "for i in range(len(s)):\n",
    "    #Check if the current character is a vowel and not preceded by another vowel\n",
    "    if s[i] in 'a e i o u'.split() and (i==0 or s[i-1]) not in 'a e i o u'.split():\n",
    "        syllable_count += 1\n",
    "    # Adjust syllable count if a syllable is wrongly counted due to an 'e' at the end of a word\n",
    "    if s[i] == \" \" and s[i-1].lower() == 'e':\n",
    "        syllable_count -=1\n",
    "# Ensure that the syllable count is at least 1\n",
    "syllable_count = max(syllable_count,1)\n",
    "print(f\"Syllable Count : {syllable_count}\")\n",
    "        \n",
    "        "
   ]
  },
  {
   "cell_type": "code",
   "execution_count": 5,
   "id": "e0702bb4-53fd-4ff8-aeb2-802cd3bf28d3",
   "metadata": {},
   "outputs": [
    {
     "name": "stdout",
     "output_type": "stream",
     "text": [
      "String has special characters\n"
     ]
    }
   ],
   "source": [
    "#Q47]\n",
    "#creating a string\n",
    "string = 'cheking if string contains any special character @#?'\n",
    "special_characters = [\n",
    "    \"!\", \"@\", \"#\", \"$\", \"%\", \"^\", \"&\", \"*\", \"(\", \")\", \"-\", \"_\", \"+\",\n",
    "    \"=\", \"{\", \"}\", \"[\", \"]\", \"|\", \"\\\\\", \";\", \":\", \"'\", \"\\\"\", \"<\", \">\",\n",
    "    \",\", \".\", \"/\", \"?\", \"`\", \"~\"\n",
    "]\n",
    "#iteratring characters in string\n",
    "for char in string:\n",
    "    #checking for special characters\n",
    "    if char in special_characters:\n",
    "        print(\"String has special characters\")\n",
    "        break\n",
    "#if for loop is executed successfully then no special characters found\n",
    "else:\n",
    "    print(\"String does not has any special characters\")\n",
    "    "
   ]
  },
  {
   "cell_type": "code",
   "execution_count": 4,
   "id": "2bd8fbd9-449b-4192-92f1-67d8d35ee492",
   "metadata": {},
   "outputs": [
    {
     "name": "stdout",
     "output_type": "stream",
     "text": [
      "Old String :\n",
      "To remove nth word from the string\n"
     ]
    },
    {
     "name": "stdin",
     "output_type": "stream",
     "text": [
      "Enter the nth word 2\n"
     ]
    },
    {
     "name": "stdout",
     "output_type": "stream",
     "text": [
      "New String :\n",
      "To nth word from the string\n"
     ]
    }
   ],
   "source": [
    "#Q48]\n",
    "#creating a string\n",
    "string = \"To remove nth word from the string\"\n",
    "print(f\"Old String :\\n{string}\")\n",
    "#taking the nth position inpur\n",
    "word_position = int(input(\"Enter the nth word\"))\n",
    "string_list = string.split()\n",
    "#checking if the wor_index is a valid length\n",
    "if word_position in range(1,len(string_list)+1):\n",
    "    #removing the element in the string\n",
    "    string_list.pop(word_position-1)\n",
    "    print(f'New String :\\n{\" \".join(string_list)}')\n",
    "else:\n",
    "    print(\"Enter valid position\")"
   ]
  },
  {
   "cell_type": "code",
   "execution_count": 7,
   "id": "bf3e4189-2794-4572-b571-2c2aa2d5a652",
   "metadata": {},
   "outputs": [
    {
     "name": "stdout",
     "output_type": "stream",
     "text": [
      "Old String :\n",
      "To insert a word at nth position in string\n"
     ]
    },
    {
     "name": "stdin",
     "output_type": "stream",
     "text": [
      "Enter the position 1\n",
      "Enter the word you want to insert Task\n"
     ]
    },
    {
     "name": "stdout",
     "output_type": "stream",
     "text": [
      "New String :\n",
      "Task To insert a word at nth position in string\n"
     ]
    }
   ],
   "source": [
    "#Q49]\n",
    "#creating a string\n",
    "string = 'To insert a word at nth position in string'\n",
    "print(f\"Old String :\\n{string}\")\n",
    "word_position = int(input(\"Enter the position\"))\n",
    "string_list = string.split()\n",
    "#checking is the position entered is valid or not\n",
    "if word_position in range(1,len(string_list)+1):\n",
    "    word = input(\"Enter the word you want to insert\")\n",
    "    #inserting the word\n",
    "    string_list.insert(word_position-1,word)\n",
    "    #converting it to string\n",
    "    print(f\"New String :\\n{' '.join(string_list)}\")\n",
    "else:\n",
    "    print(\"Enter valid position\")"
   ]
  },
  {
   "cell_type": "code",
   "execution_count": 43,
   "id": "1c7d9a25-3a86-4452-9658-b59ae3abc830",
   "metadata": {},
   "outputs": [
    {
     "name": "stdout",
     "output_type": "stream",
     "text": [
      "List of lists :\n",
      "[['Name', 'Age', 'Country'], ['John', '30', 'USA'], ['Alice', '25', 'Canada'], ['Bob', '35', 'UK'], ['']]\n"
     ]
    }
   ],
   "source": [
    "#Q50]\n",
    "#creating a csv string\n",
    "csv_string = \"\"\"Name,Age,Country\n",
    "John,30,USA\n",
    "Alice,25,Canada\n",
    "Bob,35,UK\n",
    "\"\"\"\n",
    "list_of_lists = []\n",
    "#creating list of rows\n",
    "rows_csv = csv_string.split('\\n')\n",
    "#iterating each row \n",
    "for row in rows_csv:\n",
    "    #splitin\n",
    "    list_of_lists.append(row.split(','))\n",
    "print(f\"List of lists :\\n{list_of_lists}\")\n",
    "    \n"
   ]
  },
  {
   "cell_type": "markdown",
   "id": "35db63db-519f-48dd-8553-e2058597f6ca",
   "metadata": {},
   "source": [
    "List Based Practice Problem :"
   ]
  },
  {
   "cell_type": "code",
   "execution_count": 2,
   "id": "944df941-257d-4192-a884-8b30a3f9bec9",
   "metadata": {},
   "outputs": [],
   "source": [
    "#Q1]\n",
    "#creating a list of integers from 1 to 10 \n",
    "#list is created with help of \"[]\" brackets.\n",
    "l = [1,2,3,4,5,6,7,8,9,10]"
   ]
  },
  {
   "cell_type": "code",
   "execution_count": 3,
   "id": "28731c7d-48f7-4df2-9ecf-6c790a1e91c4",
   "metadata": {},
   "outputs": [
    {
     "name": "stdout",
     "output_type": "stream",
     "text": [
      "length of list = 10\n"
     ]
    }
   ],
   "source": [
    "#Q2]\n",
    "#creating a list of integers from 1 to 10 \n",
    "#list is created with help of \"[]\" brackets.\n",
    "l = [1,2,3,4,5,6,7,8,9,10]\n",
    "#To find the length of list l. we will define counter c to 0 and use for loop to increase the counter and find the length of the list l\n",
    "c = 0\n",
    "for i in l:\n",
    "    c+=1\n",
    "#printing the length of the list i.e c with help of f string \n",
    "print(f\"length of list = {c}\")"
   ]
  },
  {
   "cell_type": "code",
   "execution_count": 4,
   "id": "e35c4bbb-a893-42c7-9f11-165e388827dc",
   "metadata": {},
   "outputs": [],
   "source": [
    "#Q3]\n",
    "#creating a list of integers from 1 to 10 \n",
    "#list is created with help of \"[]\" brackets.\n",
    "l = [1,2,3,4,5,6,7,8,9,10]\n",
    "#appending an element at the end of the list using .append method of list\n",
    "l.append(0)"
   ]
  },
  {
   "cell_type": "code",
   "execution_count": 6,
   "id": "1a000ff6-b2f4-45fe-ba0e-838a71f79456",
   "metadata": {},
   "outputs": [],
   "source": [
    "#Q4]\n",
    "#creating a list of integers from 1 to 10 \n",
    "#list is created with help of \"[]\" brackets.\n",
    "l = [1,2,3,4,5,6,7,8,9,10]\n",
    "#inserting an element at a specific index in the list using .insert method of the list\n",
    "l.insert(0,0)"
   ]
  },
  {
   "cell_type": "code",
   "execution_count": 9,
   "id": "029b7247-0847-429f-9c0d-efee55fd4b3c",
   "metadata": {},
   "outputs": [],
   "source": [
    "#Q5]\n",
    "#creating a list of integers from 1 to 10 \n",
    "#list is created with help of \"[]\" brackets.\n",
    "l = [1,2,3,4,5,6,7,8,9,10]\n",
    "#removing an element from the list by its value using .remove() method \n",
    "l.remove(10)"
   ]
  },
  {
   "cell_type": "code",
   "execution_count": 11,
   "id": "121c4267-9c02-42fc-a374-4b96c4151510",
   "metadata": {},
   "outputs": [
    {
     "data": {
      "text/plain": [
       "1"
      ]
     },
     "execution_count": 11,
     "metadata": {},
     "output_type": "execute_result"
    }
   ],
   "source": [
    "#Q6]\n",
    "#creating a list of integers from 1 to 10 \n",
    "#list is created with help of \"[]\" brackets.\n",
    "l = [1,2,3,4,5,6,7,8,9,10]\n",
    "#removing an element from the list by its index using .pop() method . it returns the deleted element\n",
    "l.pop(0)"
   ]
  },
  {
   "cell_type": "code",
   "execution_count": 36,
   "id": "23f40761-eb9d-46ec-a4fe-8bde09a45c0b",
   "metadata": {},
   "outputs": [
    {
     "name": "stdout",
     "output_type": "stream",
     "text": [
      "9\n",
      "True\n",
      "Element Exists\n"
     ]
    }
   ],
   "source": [
    "#Q7]\n",
    "#creating a list of integers \n",
    "#list is created with help of \"[]\" brackets.\n",
    "l = [1,2,3,4,5,6,7,8,9,10,10]\n",
    "#Method 1\n",
    "#using .index method to check if an elements exists in the list. It throws Value by error if the mentioned element is not present in the list. It returns the firts occurence index of the searched element\n",
    "print(l.index(10))\n",
    "#Method 2\n",
    "#using 'in' membership operator we can scheck if the element is present in the list. If the expression returns true then the element exists , if it returns false the element doesnt exist\n",
    "print(10 in l)\n",
    "#Method 3\n",
    "#using if-else block\n",
    "if 10 in l:\n",
    "    print(\"Element Exists\")\n",
    "else:\n",
    "    print(\"Element Doesn't exists\")"
   ]
  },
  {
   "cell_type": "code",
   "execution_count": 35,
   "id": "b588f86d-dc56-4ef9-a5a3-e24a76880b82",
   "metadata": {},
   "outputs": [
    {
     "data": {
      "text/plain": [
       "9"
      ]
     },
     "execution_count": 35,
     "metadata": {},
     "output_type": "execute_result"
    }
   ],
   "source": [
    "#Q8]\n",
    "#creating a list of integers  \n",
    "#list is created with help of \"[]\" brackets.\n",
    "l = [1,2,3,4,5,6,7,8,9,10,10]\n",
    "#using .index method to check if an elements exists in the list. It throws Value by error if the mentioned element is not present in the list. It returns the firts occurence index of the searched element\n",
    "l.index(10)"
   ]
  },
  {
   "cell_type": "code",
   "execution_count": 34,
   "id": "80f094c1-60f3-40f3-98d9-221e78dcd3cc",
   "metadata": {},
   "outputs": [
    {
     "data": {
      "text/plain": [
       "2"
      ]
     },
     "execution_count": 34,
     "metadata": {},
     "output_type": "execute_result"
    }
   ],
   "source": [
    "#Q9]\n",
    "#creating a list of integers \n",
    "#list is created with help of \"[]\" brackets.\n",
    "l = [1,2,3,4,5,6,7,8,9,10,10]\n",
    "#using .count method to count the occurence of a particular element in the list\n",
    "l.count(10)"
   ]
  },
  {
   "cell_type": "code",
   "execution_count": 31,
   "id": "f182c856-f36f-4317-ba1f-813251932034",
   "metadata": {},
   "outputs": [
    {
     "name": "stdout",
     "output_type": "stream",
     "text": [
      "[10, 10, 9, 8, 7, 6, 5, 4, 3, 2, 1]\n"
     ]
    },
    {
     "data": {
      "text/plain": [
       "[10, 10, 9, 8, 7, 6, 5, 4, 3, 2, 1]"
      ]
     },
     "execution_count": 31,
     "metadata": {},
     "output_type": "execute_result"
    }
   ],
   "source": [
    "#Q10]\n",
    "#creating a list of integers \n",
    "#list is created with help of \"[]\" brackets.\n",
    "l = [1,2,3,4,5,6,7,8,9,10,10]\n",
    "#method 1 \n",
    "#using list slicing to reverse the list. this temporarily reverses the list\n",
    "print(l[::-1])\n",
    "#method 2\n",
    "#using .reverse() method to reverse the list. .reverse method permanently reverses the list\n",
    "l.reverse()\n",
    "#displaying l\n",
    "l"
   ]
  },
  {
   "cell_type": "code",
   "execution_count": 30,
   "id": "950e888f-5799-4d5d-9636-814e9d79a2e7",
   "metadata": {},
   "outputs": [
    {
     "data": {
      "text/plain": [
       "[2, 5, 10, 39, 43, 3249]"
      ]
     },
     "execution_count": 30,
     "metadata": {},
     "output_type": "execute_result"
    }
   ],
   "source": [
    "#Q11]\n",
    "#creating a list of integers \n",
    "#list is created with help of \"[]\" brackets.\n",
    "l = [10,39,2,3249,43,5]\n",
    "#using .sort() method to sort the list in ascending order\n",
    "l.sort()\n",
    "#displaying l\n",
    "l"
   ]
  },
  {
   "cell_type": "code",
   "execution_count": 29,
   "id": "418d63a8-5630-48c0-bb0b-67e46c3b247b",
   "metadata": {},
   "outputs": [
    {
     "data": {
      "text/plain": [
       "[3249, 43, 39, 10, 5, 2]"
      ]
     },
     "execution_count": 29,
     "metadata": {},
     "output_type": "execute_result"
    }
   ],
   "source": [
    "#Q12]\n",
    "#creating a list of integers \n",
    "#list is created with help of \"[]\" brackets.\n",
    "l = [10,39,2,3249,43,5]\n",
    "#using .sort() method to sort the list in descending order\n",
    "l.sort(reverse=True)\n",
    "#displaying l\n",
    "l"
   ]
  },
  {
   "cell_type": "code",
   "execution_count": 37,
   "id": "69f9f19e-653e-4477-9324-f2996e122d55",
   "metadata": {},
   "outputs": [
    {
     "name": "stdout",
     "output_type": "stream",
     "text": [
      "Method 1 \n",
      "[2, 4, 6, 8, 10, 12, 14, 16, 18, 20]\n",
      "Method 2 \n",
      "[2, 4, 6, 8, 10, 12, 14, 16, 18, 20]\n"
     ]
    }
   ],
   "source": [
    "#Q13]\n",
    "#Creating list of even numbers from 1-20\n",
    "#method 1\n",
    "l = [2,4,6,8,10,12,14,16,18,20]\n",
    "print(f\"Method 1 \\n{l}\")\n",
    "#method 2 \n",
    "#using list comprehension\n",
    "l1 = [i for i in range(1,21) if i%2==0]\n",
    "print(f\"Method 2 \\n{l1}\")\n",
    "#there are more methods to acheive this. For ex:- use of for loop and then appending the values in the list,etc"
   ]
  },
  {
   "cell_type": "code",
   "execution_count": 39,
   "id": "7f6c3a9e-fa7a-4b3e-a59e-c61eec9dc516",
   "metadata": {},
   "outputs": [
    {
     "name": "stdout",
     "output_type": "stream",
     "text": [
      "Method 1 \n",
      "[1, 3, 5, 7, 9, 11, 13, 15, 17, 19]\n",
      "Method 2 \n",
      "[1, 3, 5, 7, 9, 11, 13, 15, 17, 19]\n"
     ]
    }
   ],
   "source": [
    "#Q14]\n",
    "#Creating list of odd numbers from 1-20\n",
    "#method 1\n",
    "l = [1,3,5,7,9,11,13,15,17,19]\n",
    "print(f\"Method 1 \\n{l}\")\n",
    "#method 2 \n",
    "#using list comprehension\n",
    "l1 = [i for i in range(1,21) if i%2!=0]\n",
    "print(f\"Method 2 \\n{l1}\")\n",
    "#there are more methods to acheive this. For ex:- use of for loop and then appending the values in the list,etc"
   ]
  },
  {
   "cell_type": "code",
   "execution_count": 42,
   "id": "6664047f-5636-4ed1-96f0-fa5cba96ad72",
   "metadata": {},
   "outputs": [
    {
     "name": "stdout",
     "output_type": "stream",
     "text": [
      "Method 1 \n",
      "sum = 110\n",
      "Method 2 \n",
      "sum = 110\n"
     ]
    }
   ],
   "source": [
    "#Q15]\n",
    "#Creating list of numbers\n",
    "#method 1\n",
    "l = [2,4,6,8,10,12,14,16,18,20]\n",
    "#using in built function sum() we can find the sum of all integers in a list\n",
    "print(f\"Method 1 \\nsum = {sum(l)}\")\n",
    "#method 2\n",
    "#we can use for loop to find the sum of elements in the list. Where variable s is used to calculate sum\n",
    "s = 0\n",
    "#using in membership operator the list items to i\n",
    "for i in l:\n",
    "    #calculating the sum \n",
    "    s+=i\n",
    "print(f\"Method 2 \\nsum = {s}\")\n",
    "#there are more methods to calculate the sum of elements of list. for ex:- using lambda function with reduce,etc"
   ]
  },
  {
   "cell_type": "code",
   "execution_count": 48,
   "id": "a1414460-607a-4740-adee-91960d8b2f4b",
   "metadata": {},
   "outputs": [
    {
     "name": "stdout",
     "output_type": "stream",
     "text": [
      "Method 1 \n",
      "maximum = 20\n",
      "Method 2 \n",
      "maximum = 20\n"
     ]
    }
   ],
   "source": [
    "#Q16]\n",
    "#Creating list of numbers\n",
    "#method 1\n",
    "l = [2,4,6,8,10,12,14,16,18,20]\n",
    "#using in built function max() we can find the sum of all integers in a list\n",
    "print(f\"Method 1 \\nmaximum = {max(l)}\")\n",
    "#method 2\n",
    "#we can use for loop to find the maximum element\n",
    "#variable c is declared to compare and store the maximum element\n",
    "c = l[0]\n",
    "#using in membership operator the list items to i\n",
    "for i in l:\n",
    "    #comparing the values\n",
    "    if i>c:\n",
    "        #updating c\n",
    "        c = i\n",
    "print(f\"Method 2 \\nmaximum = {c}\")\n",
    "#there are more methods to find maximum integer in list. for ex:- using lambda function with filter,etc"
   ]
  },
  {
   "cell_type": "code",
   "execution_count": 49,
   "id": "0043785d-de04-42d6-bfb7-289de68eb489",
   "metadata": {},
   "outputs": [
    {
     "name": "stdout",
     "output_type": "stream",
     "text": [
      "Method 1 \n",
      "minimum = 2\n",
      "Method 2 \n",
      "minimum = 2\n"
     ]
    }
   ],
   "source": [
    "#Q17]\n",
    "#Creating list of numbers\n",
    "#method 1\n",
    "l = [2,4,6,8,10,12,14,16,18,20]\n",
    "#using in built function min() we can find the sum of all integers in a list\n",
    "print(f\"Method 1 \\nminimum = {min(l)}\")\n",
    "#method 2\n",
    "#we can use for loop to find the minimum element\n",
    "#variable c is declared to compare and store the maximum element\n",
    "c = l[0]\n",
    "#using in membership operator the list items to i\n",
    "for i in l:\n",
    "    #comparing the values\n",
    "    if i<c:\n",
    "        #updating c\n",
    "        c = i\n",
    "print(f\"Method 2 \\nminimum = {c}\")\n",
    "#there are more methods to minimum integer in list. for ex:- using lambda function with filter,etc\n"
   ]
  },
  {
   "cell_type": "code",
   "execution_count": 51,
   "id": "9a6801e8-5c64-46ff-a562-49ffe81591d4",
   "metadata": {},
   "outputs": [
    {
     "name": "stdout",
     "output_type": "stream",
     "text": [
      "Method 1 \n",
      "[1, 4, 9, 16, 25, 36, 49, 64, 81, 100]\n",
      "Method 2 \n",
      "[1, 4, 9, 16, 25, 36, 49, 64, 81, 100]\n"
     ]
    }
   ],
   "source": [
    "#Q18\n",
    "#method 1\n",
    "#using list comprehension to create a list of squares from 1-10\n",
    "l = [i**2 for i in range(1,11)]\n",
    "print(f\"Method 1 \\n{l}\")\n",
    "#method 2\n",
    "#using for loop with in membership operator and range function \n",
    "#then appending the calculated squares in the list\n",
    "#creating an empty list\n",
    "l1 = []\n",
    "for i in range(1,11):\n",
    "    l1.append(i**2)\n",
    "print(f\"Method 2 \\n{l1}\")\n",
    "#there are more methods to acheive this.For ex:- using lambda function with map,etc."
   ]
  },
  {
   "cell_type": "code",
   "execution_count": 9,
   "id": "e07619f6-eb23-4a85-a755-b9c435333a01",
   "metadata": {},
   "outputs": [
    {
     "data": {
      "text/plain": [
       "[77, 78, 37]"
      ]
     },
     "execution_count": 9,
     "metadata": {},
     "output_type": "execute_result"
    }
   ],
   "source": [
    "#Q19]\n",
    "#importing random, which will help us in creating a list of random numbers\n",
    "import random\n",
    "#creating an empty list\n",
    "l = []\n",
    "#iterating loop in a random range of (0,6)\n",
    "for i in range(random.randint(0,6)):\n",
    "    #list of random numbes is created\n",
    "    l.append(random.randint(0,99))\n",
    "#displaying list l\n",
    "l"
   ]
  },
  {
   "cell_type": "code",
   "execution_count": 10,
   "id": "d320305c-af14-49c2-a9e4-9e10dc079e11",
   "metadata": {},
   "outputs": [
    {
     "name": "stdout",
     "output_type": "stream",
     "text": [
      "[1, 2, 3, 4, 5, 21]\n"
     ]
    }
   ],
   "source": [
    "#Q20]\n",
    "#creating a list of duplicates\n",
    "l = [1,2,3,4,21,1,21,1,1,1,2,3,3,4,5]\n",
    "#to remove the duplicates from the list we will type cast it to set and then back into list\n",
    "print(list(set(l)))"
   ]
  },
  {
   "cell_type": "code",
   "execution_count": 14,
   "id": "3021430a-c099-4aed-9f73-35ec5418ba00",
   "metadata": {},
   "outputs": [
    {
     "name": "stdout",
     "output_type": "stream",
     "text": [
      "[1, 2, 3, 4]\n"
     ]
    }
   ],
   "source": [
    "#Q21]\n",
    "#creating two lists l1 & l2\n",
    "l1 = [1,2,3,4,12,13,14]\n",
    "l2 = [1,2,3,4,9,76,54,34]\n",
    "#type casting the list to set and using method of set i.e. .intersection(). After finding the intersection we are typecasting it back to list\n",
    "print(list(set(l1).intersection(set(l2))))\n",
    "#we can also use for loop to acheive this. \n",
    "\n",
    "\n"
   ]
  },
  {
   "cell_type": "code",
   "execution_count": 13,
   "id": "974404b5-4016-4b81-b318-9ffd80e34983",
   "metadata": {},
   "outputs": [
    {
     "name": "stdout",
     "output_type": "stream",
     "text": [
      "[12, 13, 14]\n"
     ]
    }
   ],
   "source": [
    "#Q22]\n",
    "#creating two lists l1 & l2\n",
    "l1 = [1,2,3,4,12,13,14]\n",
    "l2 = [1,2,3,4,9,76,54,34]\n",
    "#type casting the list to set and using method of set i.e. .difference(). After finding the difference we are typecasting it back to list\n",
    "print(list(set(l1).difference(set(l2))))\n",
    "#we can also use for loop to acheive this. \n"
   ]
  },
  {
   "cell_type": "code",
   "execution_count": 42,
   "id": "047b2f2f-43de-4a73-bb8f-d437b026a7e7",
   "metadata": {},
   "outputs": [
    {
     "name": "stdout",
     "output_type": "stream",
     "text": [
      "[1, 2, 3, 5, 2, 4, 6, 8, [1, 2, [23]]]\n"
     ]
    }
   ],
   "source": [
    "#Q23]\n",
    "#creating two lists\n",
    "l1 = [1,2,3,5]\n",
    "l2 = [2,4,6,8,[1,2,[23]]]\n",
    "#using concatination to merge two list\n",
    "print(l1+l2)\n",
    "#there are moere methods to acheive this. by usign .ectend we can acheive it"
   ]
  },
  {
   "cell_type": "code",
   "execution_count": 29,
   "id": "aa6c5a67-2c89-4093-aa6a-75751a4e5cb6",
   "metadata": {},
   "outputs": [
    {
     "name": "stdout",
     "output_type": "stream",
     "text": [
      "[2, 4, 6, 10]\n"
     ]
    }
   ],
   "source": [
    "#Q24]\n",
    "#creating a list\n",
    "l1 = [1,2,3,5]\n",
    "l = []\n",
    "#multiplying all elements by 2\n",
    "for i in range(len(l1)):\n",
    "    #adding the new multiplied element\n",
    "    l.append(l1[i]*2)\n",
    "print(l)\n",
    "#we can solve this by using list comprehension too\n"
   ]
  },
  {
   "cell_type": "code",
   "execution_count": 30,
   "id": "37379b39-de51-417e-a137-9af8a203fbf9",
   "metadata": {},
   "outputs": [
    {
     "name": "stdout",
     "output_type": "stream",
     "text": [
      "List of Even numbers :\n",
      "[4, 6, 8]\n"
     ]
    }
   ],
   "source": [
    "#Q25]\n",
    "#creating a list of numbers\n",
    "l = [1,23,4,5,6,8,73]\n",
    "l1 = []\n",
    "#iterating over the elements\n",
    "for i in l:\n",
    "    #checking if the number is even\n",
    "    if i%2==0:\n",
    "        #appending the elements to new list\n",
    "        l1.append(i)\n",
    "print(f\"List of Even numbers :\\n{l1}\")"
   ]
  },
  {
   "cell_type": "code",
   "execution_count": 32,
   "id": "d3429af9-023c-4fec-ae5d-67e7f5ec1a26",
   "metadata": {},
   "outputs": [
    {
     "name": "stdout",
     "output_type": "stream",
     "text": [
      "List of Integers :\n",
      "[1, 2, 3, 4, 5]\n"
     ]
    }
   ],
   "source": [
    "#Q26\n",
    "#cerating a list of strings\n",
    "l = [\"1\", \"2\", \"3\", \"4\", \"5\"]\n",
    "l1 = []\n",
    "#using loop to get individual elements\n",
    "for i in l:\n",
    "    #checking the type of i\n",
    "    if type(i)==str:\n",
    "        #type casting it to int and appending it\n",
    "        l1.append(int(i))\n",
    "print(f\"List of Integers :\\n{l1}\")\n"
   ]
  },
  {
   "cell_type": "code",
   "execution_count": 33,
   "id": "294687bd-73d4-4d86-8831-7d98e4c2f06d",
   "metadata": {},
   "outputs": [
    {
     "name": "stdout",
     "output_type": "stream",
     "text": [
      "List of String :\n",
      "['1', '2', '3', '4', '5']\n"
     ]
    }
   ],
   "source": [
    "#27]\n",
    "#creating a list of integers\n",
    "l = [1, 2, 3, 4, 5]\n",
    "l1 = []\n",
    "#using loop to get individual elements\n",
    "for i in l:\n",
    "    #checking the type of i\n",
    "    if type(i)==int:\n",
    "        #type casting it to str and appending it\n",
    "        l1.append(str(i))\n",
    "print(f\"List of String :\\n{l1}\")\n"
   ]
  },
  {
   "cell_type": "code",
   "execution_count": 54,
   "id": "f0216982-3e31-42ab-83b9-5a0d28590816",
   "metadata": {},
   "outputs": [
    {
     "name": "stdout",
     "output_type": "stream",
     "text": [
      "[1, 2, 4, 5, [2, 3, [4, 5, 8, [8, [1]], 2], [2]]]\n",
      "[2, 2, 1, 8, 8, 5, 4, 3, 2, 5, 4, 2, 1]\n"
     ]
    }
   ],
   "source": [
    "#28]\n",
    "l = [1,2,4,5,[2,3,[4,5,8,[8,[1]],2],[2]]]\n",
    "print((l))\n",
    "l1 = []\n",
    "s = [l]\n",
    "#it will run till the list is exhausted\n",
    "while s:\n",
    "    #poping element to access it\n",
    "    c = s.pop()\n",
    "    #checking if it is a sub class of list using built in function\n",
    "    if isinstance(c,list):\n",
    "        #extending the list and will check again in further iterations\n",
    "        s.extend(c)\n",
    "    #appending it to flatten the nested list\n",
    "    else:\n",
    "        l1.append(c)\n",
    "print(l1)"
   ]
  },
  {
   "cell_type": "code",
   "execution_count": 58,
   "id": "c377b806-829b-45ff-8d2e-1eba030511a0",
   "metadata": {},
   "outputs": [
    {
     "name": "stdout",
     "output_type": "stream",
     "text": [
      "Fibonacci Series of 10 numbers :\n",
      "0 1 1 2 3 5 8 13 21 34 "
     ]
    }
   ],
   "source": [
    "#Q29]\n",
    "a,b=0,1\n",
    "print(f'Fibonacci Series of 10 numbers :\\n{a} {b}',end=\" \")\n",
    "#using for loop to iterate 8 times\n",
    "for i in range(8):\n",
    "    #printing the sum of prev two numbers\n",
    "    print(f\"{a+b}\",end=\" \")\n",
    "    #swapping the numbers\n",
    "    a,b=b,a+b"
   ]
  },
  {
   "cell_type": "code",
   "execution_count": 60,
   "id": "6816dec9-eddf-417b-ac4b-936c9c353647",
   "metadata": {},
   "outputs": [
    {
     "name": "stdout",
     "output_type": "stream",
     "text": [
      "List is unsorted\n"
     ]
    }
   ],
   "source": [
    "#Q30]\n",
    "#creating a list\n",
    "l =[1,2,0,9]\n",
    "#checking if it is ssorted\n",
    "if l == sorted(l):\n",
    "    print(\"List is sorted\")\n",
    "else:\n",
    "    print(\"List is unsorted\")"
   ]
  },
  {
   "cell_type": "code",
   "execution_count": 68,
   "id": "bbf305f4-21b5-441e-a156-4e5d3cd709d9",
   "metadata": {},
   "outputs": [
    {
     "name": "stdout",
     "output_type": "stream",
     "text": [
      "[1, 2, 4, 5, 6, 7, 8, 9, 10]\n"
     ]
    },
    {
     "name": "stdin",
     "output_type": "stream",
     "text": [
      "Enter the position 2\n"
     ]
    },
    {
     "name": "stdout",
     "output_type": "stream",
     "text": [
      "[9, 10, 1, 2, 4, 5, 6, 7, 8]\n"
     ]
    }
   ],
   "source": [
    "#Q31]\n",
    "l = [1,2,4,5,6,7,8,9,10]\n",
    "print(l)\n",
    "n = int(input(\"Enter the position\"))\n",
    "#checking if the mentioned position is valid by checking  if the entered position is positive\n",
    "if n>0:\n",
    "    #rotating the list n times\n",
    "    n%=len(l)\n",
    "    l1 = []\n",
    "    #using list slicing rotating the list to left by n-postions\n",
    "    l1 = l[-n:]+l[:-n]\n",
    "    print(l1)\n",
    "else:\n",
    "    print(\"invalid position\")\n"
   ]
  },
  {
   "cell_type": "code",
   "execution_count": 69,
   "id": "b6b3f4d7-57cc-4d0f-a662-5db14a3c9c69",
   "metadata": {},
   "outputs": [
    {
     "name": "stdout",
     "output_type": "stream",
     "text": [
      "[1, 2, 4, 5, 6, 7, 8, 9, 10]\n"
     ]
    },
    {
     "name": "stdin",
     "output_type": "stream",
     "text": [
      "Enter the position 2\n"
     ]
    },
    {
     "name": "stdout",
     "output_type": "stream",
     "text": [
      "[4, 5, 6, 7, 8, 9, 10, 1, 2]\n"
     ]
    }
   ],
   "source": [
    "#Q32]\n",
    "l = [1,2,4,5,6,7,8,9,10]\n",
    "print(l)\n",
    "n = int(input(\"Enter the position\"))\n",
    "#checking if the mentioned position is valid by checking if the entered position is positive\n",
    "if n>0:\n",
    "    #rotating the list n times\n",
    "    n%=len(l)\n",
    "    l1 = []\n",
    "    #using list slicing rotating the list to right by n-postions\n",
    "    l1 = l[n:]+l[:n]\n",
    "    print(l1)\n",
    "else:\n",
    "    print(\"invalid position\")\n"
   ]
  },
  {
   "cell_type": "code",
   "execution_count": 74,
   "id": "28a6b82f-da3c-403d-8e77-18a36540812f",
   "metadata": {},
   "outputs": [
    {
     "name": "stdout",
     "output_type": "stream",
     "text": [
      "[2, 3, 5, 7, 11, 13, 17, 19, 23, 29, 31, 37, 41, 43, 47, 53, 59, 61, 67, 71, 73, 79, 83, 89, 97, 101, 103, 107, 109, 113, 127, 131, 137, 139, 149, 151, 157, 163, 167, 173, 179, 181, 191, 193, 197, 199, 211, 223, 227, 229]\n"
     ]
    }
   ],
   "source": [
    "#Q33]\n",
    "l = []\n",
    "i = 2\n",
    "while len(l) != 50:\n",
    "    c = 0  # Reset the count of factors for each number being tested\n",
    "    #using this loop to generate prime numbers\n",
    "    for j in range(1, i + 1):\n",
    "        #checking for divisibility\n",
    "        if i % j == 0:\n",
    "            c += 1\n",
    "    if c == 2:\n",
    "        l.append(i)\n",
    "    #iterating i\n",
    "    i += 1\n",
    "print(l)\n",
    "\n",
    "    "
   ]
  },
  {
   "cell_type": "code",
   "execution_count": 4,
   "id": "9dfb73ae-433f-4432-b37f-badd9f276b5b",
   "metadata": {},
   "outputs": [
    {
     "name": "stdout",
     "output_type": "stream",
     "text": [
      "[12, 3, 4, 5, 6, 7, 8, 10]\n"
     ]
    },
    {
     "name": "stdin",
     "output_type": "stream",
     "text": [
      "Enter the chunk size 2\n"
     ]
    },
    {
     "name": "stdout",
     "output_type": "stream",
     "text": [
      "[10] , [12, 3, 4, 5, 6, 7, 8]\n"
     ]
    }
   ],
   "source": [
    "#Q34]\n",
    "#creating a list l\n",
    "l = [12,3,4,5,6,7,8,10]\n",
    "print(l)\n",
    "#taking the chunk size 'n' input form user\n",
    "n = int(input(\"Enter the chunk size\"))\n",
    "if n<=len(l):\n",
    "    for i in range(1,n):\n",
    "        #poping the list in given chunk size\n",
    "        print([l.pop()],end= \" , \")\n",
    "    print(l)\n",
    "        \n",
    "else:\n",
    "    print(\"Enter valid chunk size\")"
   ]
  },
  {
   "cell_type": "code",
   "execution_count": 11,
   "id": "5e1827d0-c5f3-44e9-afc2-7d5d03b6afa3",
   "metadata": {},
   "outputs": [
    {
     "name": "stdout",
     "output_type": "stream",
     "text": [
      "[12, 3, 4, 5, 6, 7, 8, 10]\n",
      "Second Max :\n",
      "10\n"
     ]
    }
   ],
   "source": [
    "#Q35]\n",
    "#creating a list l\n",
    "l = [12,3,4,5,6,7,8,10]\n",
    "print(l)\n",
    "#to find the max element we can sorte the list and display the second max\n",
    "print(f\"Second Max :\\n{sorted(l)[-2]}\")\n",
    "#this output can be acheived using other methods too"
   ]
  },
  {
   "cell_type": "code",
   "execution_count": 16,
   "id": "f5c0dd9e-9982-4b27-82b0-b97db180f526",
   "metadata": {},
   "outputs": [
    {
     "name": "stdout",
     "output_type": "stream",
     "text": [
      "[1, 4, 9, 16, 25]\n"
     ]
    }
   ],
   "source": [
    "#Q36]\n",
    "#creating a list l\n",
    "list1=[1,2,3,4,5]\n",
    "#using list comprehension to calculate the square\n",
    "x=[i**2 for i in list1]\n",
    "print(x)"
   ]
  },
  {
   "cell_type": "code",
   "execution_count": 19,
   "id": "96cbec2e-668a-4dbf-8b40-c1ba2b8b39bf",
   "metadata": {},
   "outputs": [
    {
     "name": "stdout",
     "output_type": "stream",
     "text": [
      "List :\n",
      "['a', 'b', 'c']\n",
      "Dictionary :\n",
      "{'a': 0, 'b': 1, 'c': 2}\n"
     ]
    }
   ],
   "source": [
    "#Q37]\n",
    "#creating a list\n",
    "l = ['a','b','c']\n",
    "print(f'List :\\n{l}')\n",
    "dict_list = {}\n",
    "#using for loop and concepts of dictionary\n",
    "\n",
    "for i in range(len(l)):\n",
    "    dict_list[l[i]] = i\n",
    "print(f\"Dictionary :\\n{dict_list}\")\n",
    "    "
   ]
  },
  {
   "cell_type": "code",
   "execution_count": 20,
   "id": "336f41ac-57d6-4a80-b67b-09a22a04056e",
   "metadata": {},
   "outputs": [
    {
     "name": "stdout",
     "output_type": "stream",
     "text": [
      "List :\n",
      "[1, 2, 3, 4, 5, 6]\n",
      "[3, 1, 6, 5, 2, 4]\n"
     ]
    }
   ],
   "source": [
    "#Q38]\n",
    "#creating list l\n",
    "import random\n",
    "l = [1,2,3,4,5,6]\n",
    "print(f'List :\\n{l}')\n",
    "#using.shuffle() method of random we can shuffle the list elements\n",
    "random.shuffle(l)\n",
    "print(l)"
   ]
  },
  {
   "cell_type": "code",
   "execution_count": 25,
   "id": "dc0f1d85-96ee-42d6-a629-b9e10994159a",
   "metadata": {},
   "outputs": [
    {
     "name": "stdout",
     "output_type": "stream",
     "text": [
      "[1, 1, 2, 6, 24, 120, 720, 5040, 40320, 362880]\n"
     ]
    }
   ],
   "source": [
    "#Q39]\n",
    "factorial = 1\n",
    "list_fact = [1]\n",
    "#calculating factorial of first 10 numbers in a list\n",
    "for element in range(1,10):\n",
    "    factorial *= element\n",
    "    list_fact += [factorial]\n",
    "print(list_fact)"
   ]
  },
  {
   "cell_type": "code",
   "execution_count": 22,
   "id": "67d59fd9-3f2c-4e86-b2c0-98cc98e56c1c",
   "metadata": {},
   "outputs": [
    {
     "name": "stdout",
     "output_type": "stream",
     "text": [
      "Has atleast one element in common\n"
     ]
    }
   ],
   "source": [
    "#Q40]\n",
    "#creating two lists\n",
    "l1 = [1,2,3,4,5,1,2]\n",
    "l2 = [1,2,3,4,5,6]\n",
    "#\n",
    "if set(l1).isdisjoint(set(l2)):\n",
    "    print(\"No elements in common\")\n",
    "else:\n",
    "    print(\"Has atleast one element in common\")"
   ]
  },
  {
   "cell_type": "code",
   "execution_count": 27,
   "id": "67e0e884-20db-4cc3-88f9-8b9c0aab4a2a",
   "metadata": {},
   "outputs": [
    {
     "name": "stdout",
     "output_type": "stream",
     "text": [
      "List before removing elements :\n",
      "[1, 2, 3, 'pwskills', (3+5j), True, 9.0]\n",
      "List after removing the elements :\n",
      "[]\n"
     ]
    }
   ],
   "source": [
    "#Q41]\n",
    "#creating a list of elements\n",
    "list1 = [1,2,3,'pwskills',3+5j,True,9.0]\n",
    "print(f\"List before removing elements :\\n{list1}\")\n",
    "#using .clear() method to remove all the elements from the list\n",
    "list1.clear()\n",
    "print(f\"List after removing the elements :\\n{list1}\")"
   ]
  },
  {
   "cell_type": "code",
   "execution_count": 29,
   "id": "9db27b1a-4a6d-4fbc-a039-e30f9817250b",
   "metadata": {},
   "outputs": [
    {
     "name": "stdout",
     "output_type": "stream",
     "text": [
      "[1, 0, 3, 0, 0]\n"
     ]
    }
   ],
   "source": [
    "#Q42]\n",
    "#creating a liist of integers\n",
    "list_int = [1,-2,3,-3,-100]\n",
    "#using list comprehension to replace the negative numbers with zero\n",
    "new_list = [0 if i<0 else i for i in list_int]\n",
    "print(new_list)"
   ]
  },
  {
   "cell_type": "code",
   "execution_count": 33,
   "id": "a268c463-9b3c-4ea5-9b26-85a5690c0d95",
   "metadata": {},
   "outputs": [
    {
     "name": "stdout",
     "output_type": "stream",
     "text": [
      "['To', 'convert', 'string', 'to', 'list', 'of', 'words']\n"
     ]
    }
   ],
   "source": [
    "#Q43]\n",
    "#creating a string \n",
    "string = 'To convert string to list of words'\n",
    "#converting string to list of words using .split() method\n",
    "print(string.split())"
   ]
  },
  {
   "cell_type": "code",
   "execution_count": 34,
   "id": "d9b5f009-28d4-4a39-ac31-d6b4398c82b2",
   "metadata": {},
   "outputs": [
    {
     "name": "stdout",
     "output_type": "stream",
     "text": [
      "To convert list of words to string\n"
     ]
    }
   ],
   "source": [
    "#Q44]\n",
    "#creating a list of words\n",
    "list_words = ['To', 'convert', 'list', 'of', 'words','to','string']\n",
    "#using \" \".join() method to convert list of words to string\n",
    "print(\" \".join(list_words))"
   ]
  },
  {
   "cell_type": "code",
   "execution_count": 8,
   "id": "d8bf532e-fcac-4909-bd13-7fe55afb4c31",
   "metadata": {},
   "outputs": [
    {
     "name": "stdin",
     "output_type": "stream",
     "text": [
      "Enter the 'n' power of 2 4\n"
     ]
    },
    {
     "name": "stdout",
     "output_type": "stream",
     "text": [
      "'n' powers of 2 :\n",
      "[2, 4, 8, 16]\n"
     ]
    }
   ],
   "source": [
    "#Q45]\n",
    "#creating s list of 'n' powers of 2 using list comprehension\n",
    "n = int(input(\"Enter the 'n' power of 2\"))\n",
    "x = [2**i for i in range(1,n+1)]\n",
    "print(f\"'n' powers of 2 :\\n{x}\")"
   ]
  },
  {
   "cell_type": "code",
   "execution_count": 15,
   "id": "eaeb2e40-d786-4f7b-b062-3591bdec2f69",
   "metadata": {},
   "outputs": [
    {
     "name": "stdout",
     "output_type": "stream",
     "text": [
      "Longest String :\n",
      "How is everythin going\n"
     ]
    }
   ],
   "source": [
    "#Q46]\n",
    "#creating a list of string\n",
    "list_words = ['Hello World.', 'How is everythin going']\n",
    "#using built in max() function to find longest string in list of strings\n",
    "print(f\"Longest String :\\n{max(list_words)}\")\n",
    "#there are different methods to acheive this"
   ]
  },
  {
   "cell_type": "code",
   "execution_count": 24,
   "id": "bb98f020-64f4-405c-83d0-c320ae87e402",
   "metadata": {},
   "outputs": [
    {
     "name": "stdin",
     "output_type": "stream",
     "text": [
      "Enter the nth number 5\n"
     ]
    },
    {
     "name": "stdout",
     "output_type": "stream",
     "text": [
      "Series :\n",
      "[1, 3, 6, 10, 15]\n"
     ]
    }
   ],
   "source": [
    "#Q47]\n",
    "n = int(input(\"Enter the nth number\"))\n",
    "triang_list = [] \n",
    "#iterating for n times to find n triangular numbers\n",
    "for i in range(1,n+1):\n",
    "    #calculating traingular number\n",
    "    tn = (i*(i+1))//2\n",
    "    triang_list.append(tn)\n",
    "print(f\"Series :\\n{triang_list}\")\n"
   ]
  },
  {
   "cell_type": "code",
   "execution_count": null,
   "id": "f9348920-3141-4719-8242-795186c4cc4d",
   "metadata": {},
   "outputs": [],
   "source": [
    "#creating a list of string\n",
    "list_words = ['Hello World.', 'How is everythin going']\n",
    "#using built in min() function to find longest string in list of strings\n",
    "print(f\"Shortest String :\\n{min(list_words)}\")\n",
    "#there are different methods to acheive this\n",
    "\n",
    "#creating a list of string\n",
    "list_words = ['Hello World.', 'How is everythin going']\n",
    "#using built in max() function to find longest string in list of strings\n",
    "print(f\"Longest String :\\n{max(list_words)}\")\n",
    "#there are different methods to acheive this\n",
    "\n",
    "#creating a list of string\n",
    "list_words = ['Hello World.', 'How is everythin going']\n",
    "#using built in max() function to find longest string in list of strings\n",
    "print(f\"Longest String :\\n{max(list_words)}\")\n",
    "#there are different methods to acheive this\n",
    "\n",
    "n = int(input(\"Enter the nth number\"))\n",
    "triang_list = [] \n",
    "#iterating for n times to find n triangular numbers\n",
    "for i in range(1,n+1):\n",
    "    #calculating traingular number\n",
    "    tn = (i*(i+1))//2\n",
    "    triang_list.append(tn)\n",
    "print(f\"Series :\\n{triang_list}\")\n",
    "\n",
    "#creating s list of 'n' powers of 2 using list comprehension\n",
    "n = int(input(\"Enter the 'n' power of 2\"))\n",
    "x = [2**i for i in range(1,n+1)]\n",
    "print(f\"'n' powers of 2 :\\n{x}\")\n",
    "\n",
    "#creating a list of alternating 1s and 0s of length n using list comprehension and then type casting it to tuple\n",
    "n = int(input(\"Enter the nth length\"))\n",
    "x = tuple([1 if i%2!=0 else 0 for i in range(n+1)])\n",
    "print(\"Tuple of 1s and 0s :\\n{x}\")\n"
   ]
  },
  {
   "cell_type": "code",
   "execution_count": null,
   "id": "af15b752-f053-4e69-a046-db329c7c1e42",
   "metadata": {},
   "outputs": [],
   "source": [
    "#Q48]\n",
    "#creating s list of 'n' powers of 2 using list comprehension\n",
    "n = int(input(\"Enter the 'n' power of 2\"))\n",
    "x = [2**i for i in range(1,n+1)]\n",
    "print(f\"'n' powers of 2 :\\n{x}\")"
   ]
  },
  {
   "cell_type": "code",
   "execution_count": 17,
   "id": "2b52ce61-afb0-4f07-b814-c7c9495ce8b5",
   "metadata": {},
   "outputs": [
    {
     "name": "stdout",
     "output_type": "stream",
     "text": [
      "List contains another list as a subsequence\n"
     ]
    }
   ],
   "source": [
    "#Q49]\n",
    "#creating a nested list\n",
    "list_list = [1,2,[True,False]]\n",
    "for data in list_list:\n",
    "    if type(data) == list:\n",
    "        print(\"List contains another list as a subsequence\")\n",
    "        break\n",
    "else:\n",
    "    print(\"List doesn't contains another list as a subsequence\")\n",
    "    "
   ]
  },
  {
   "cell_type": "code",
   "execution_count": 20,
   "id": "c5cf9ea0-dcbc-43f7-947b-2f91ba465cd5",
   "metadata": {},
   "outputs": [
    {
     "name": "stdout",
     "output_type": "stream",
     "text": [
      "List before swapping :\n",
      "[1, 2, 3, 4, 5, 6, 7, 8, 9]\n"
     ]
    },
    {
     "name": "stdin",
     "output_type": "stream",
     "text": [
      "Enter the index of element you want to swap 0\n",
      "Enter the index of element you want to swap -1\n"
     ]
    },
    {
     "name": "stdout",
     "output_type": "stream",
     "text": [
      "List after Swapping :\n",
      "[9, 2, 3, 4, 5, 6, 7, 8, 1]\n"
     ]
    }
   ],
   "source": [
    "#Q50]\n",
    "#creating a list\n",
    "list_num = [1,2,3,4,5,6,7,8,9]\n",
    "print(f\"List before swapping :\\n{list_num}\")\n",
    "index1,index2= int(input(\"Enter the index of element you want to swap\")), int(input(\"Enter the index of element you want to swap\"))\n",
    "if index1 in range(-(len(list_num)-1),len(list_num)) and index2 in range(-(len(list_num)-1),len(list_num)):\n",
    "    list_num[index1], list_num[index2] = list_num[index2], list_num[index1]\n",
    "    print(f\"List after Swapping :\\n{list_num}\")\n",
    "else:\n",
    "    print(\"Invalid Index\")\n",
    "    \n"
   ]
  },
  {
   "cell_type": "markdown",
   "id": "27bc894d-9667-48ed-914e-2bf6b8c16014",
   "metadata": {},
   "source": [
    "Tuple Based Practice Problem :"
   ]
  },
  {
   "cell_type": "code",
   "execution_count": 30,
   "id": "6d064cd4-beed-4ef3-b8c3-eb05363f3956",
   "metadata": {},
   "outputs": [],
   "source": [
    "#Q1]\n",
    "#creating a tuple with integers from 1 to 5\n",
    "#tuple is created with help of \"()\" braces\n",
    "t = (1,2,3,4,5)"
   ]
  },
  {
   "cell_type": "code",
   "execution_count": 31,
   "id": "30032ef7-7cde-4884-b787-882c4598f4b2",
   "metadata": {},
   "outputs": [
    {
     "data": {
      "text/plain": [
       "3"
      ]
     },
     "execution_count": 31,
     "metadata": {},
     "output_type": "execute_result"
    }
   ],
   "source": [
    "#Q2]\n",
    "#creating a tuple with integers from 1 to 5\n",
    "#tuple is created with help of \"()\" braces\n",
    "t = (1,2,3,4,5)\n",
    "t[2]"
   ]
  },
  {
   "cell_type": "code",
   "execution_count": 33,
   "id": "d8bc185b-b654-4522-bcdb-83984d2a49d3",
   "metadata": {},
   "outputs": [
    {
     "name": "stdout",
     "output_type": "stream",
     "text": [
      "Length of tuple = 5\n"
     ]
    }
   ],
   "source": [
    "#Q3]\n",
    "#creating a tuple with integers from 1 to 5\n",
    "#tuple is created with help of \"()\" braces\n",
    "t = (1,2,3,4,5)\n",
    "#To find length of tuple without using len function we are creating a counter c = 0. \n",
    "#Iterating it inside for loop which will terminate when the tuple ends\n",
    "c=0\n",
    "for i in t:\n",
    "    c+=1\n",
    "#Printing the calculated length c using print() function and f string\n",
    "print(f\"Length of tuple = {c}\")"
   ]
  },
  {
   "cell_type": "code",
   "execution_count": 34,
   "id": "8b143cc0-c15a-4f29-b92b-c0dda898c457",
   "metadata": {},
   "outputs": [
    {
     "data": {
      "text/plain": [
       "4"
      ]
     },
     "execution_count": 34,
     "metadata": {},
     "output_type": "execute_result"
    }
   ],
   "source": [
    "#Q4]\n",
    "#creating a tuple of integers\n",
    "#tuple is created with help of \"()\" braces\n",
    "t = (1,34,3,2,1,1,1,3,5,6,7,7,8)\n",
    "#using .count() method to count the occuerence of an element\n",
    "t.count(1)"
   ]
  },
  {
   "cell_type": "code",
   "execution_count": 37,
   "id": "6d3ba851-5cf9-4f0b-b787-86c125f3f1a3",
   "metadata": {},
   "outputs": [
    {
     "data": {
      "text/plain": [
       "10"
      ]
     },
     "execution_count": 37,
     "metadata": {},
     "output_type": "execute_result"
    }
   ],
   "source": [
    "#Q5]\n",
    "#creating a tuple of integers\n",
    "#tuple is created with help of \"()\" braces\n",
    "t = (1,34,3,2,1,1,1,3,5,6,7,7,8)\n",
    "#using .index() method to find the first occurence of an element in a tuple\n",
    "t.index(7)"
   ]
  },
  {
   "cell_type": "code",
   "execution_count": 39,
   "id": "25694f40-ebd8-4d87-8b95-be095bc48507",
   "metadata": {},
   "outputs": [
    {
     "name": "stdout",
     "output_type": "stream",
     "text": [
      "Element 10 exists in tuple?\n",
      "False\n",
      "Element 1 exists in the tuple t\n"
     ]
    }
   ],
   "source": [
    "#Q6]\n",
    "#creating a tuple of integers\n",
    "#tuple is created with help of \"()\" braces\n",
    "t = (1,34,3,2,1,1,1,3,5,6,7,7,8)\n",
    "#Method 1\n",
    "#Using in membership operator to check if the element is present in the tuple. If the expression returns True the element exists, if the expression returns False the element is not present in the tuple t\n",
    "print(f\"Element 10 exists in tuple?\\n{10 in t}\")\n",
    "#Method 2\n",
    "#Using if-else block\n",
    "if 1 in t:\n",
    "    print(\"Element 1 exists in the tuple t\")\n",
    "else: \n",
    "    print(\"Element 1 does not exist in the tuple t\")"
   ]
  },
  {
   "cell_type": "code",
   "execution_count": 73,
   "id": "577108ec-c8b1-4651-85ac-0b41d79935e7",
   "metadata": {},
   "outputs": [
    {
     "data": {
      "text/plain": [
       "[1, 34, 3, 2, 1, 1, 1, 3, 5, 6, 7, 7, 8]"
      ]
     },
     "execution_count": 73,
     "metadata": {},
     "output_type": "execute_result"
    }
   ],
   "source": [
    "#Q7]\n",
    "#creating a tuple of integers\n",
    "#tuple is created with help of \"()\" braces\n",
    "t = (1,34,3,2,1,1,1,3,5,6,7,7,8)\n",
    "#converting the tuple t to list using list() function\n",
    "list(t)"
   ]
  },
  {
   "cell_type": "code",
   "execution_count": 57,
   "id": "de0d7190-f9ed-45c0-b3bf-cba6d13cc8e2",
   "metadata": {},
   "outputs": [],
   "source": [
    "#Q8]\n",
    "#creating a tuple of integers\n",
    "#tuple is created with help of \"()\" braces\n",
    "t = (1,2,3,4,5)\n",
    "#unpacking elements of a tuple\n",
    "a,b,c,d,e = t\n"
   ]
  },
  {
   "cell_type": "code",
   "execution_count": 80,
   "id": "a04a7999-ce07-4e20-a82b-cdbd70608240",
   "metadata": {},
   "outputs": [
    {
     "name": "stdout",
     "output_type": "stream",
     "text": [
      "Tuple t \n",
      "(2, 4, 6, 8, 10)\n",
      "Tuple t2 \n",
      "(2, 4, 6, 8, 10)\n"
     ]
    }
   ],
   "source": [
    "#Q10]\n",
    "#creating a tuple of even integers from 1-10\n",
    "#Method 1 \n",
    "#assigning the values\n",
    "t = (2,4,6,8,10)\n",
    "print(f\"Tuple t \\n{t}\")\n",
    "#Method 2\n",
    "#using list comprehension and converting it to tuple using tuple() function\n",
    "t2 = tuple([i for i in range(1,11) if i%2==0])\n",
    "print(f\"Tuple t2 \\n{t2}\")\n",
    "#There are more methods to create a tuple of even numbers. For ex:- type casting a list of even numbers, making use of for loop,etc."
   ]
  },
  {
   "cell_type": "code",
   "execution_count": 79,
   "id": "dcd9af12-91f6-481d-9ef9-ec644bc2c957",
   "metadata": {},
   "outputs": [
    {
     "name": "stdout",
     "output_type": "stream",
     "text": [
      "Tuple t \n",
      "(1, 3, 5, 7, 9)\n",
      "Tuple t2 \n",
      "(1, 3, 5, 7, 9)\n"
     ]
    }
   ],
   "source": [
    "#Q11]\n",
    "#creating a tuple of odd integers from 1-10\n",
    "#Method 1 \n",
    "#assigning the values\n",
    "t = (1,3,5,7,9)\n",
    "print(f\"Tuple t \\n{t}\")\n",
    "#Method 2\n",
    "#using list comprehension and converting it to tuple using tuple() function\n",
    "t2 = tuple([i for i in range(1,11) if i%2!=0])\n",
    "print(f\"Tuple t2 \\n{t2}\")\n",
    "#There are more methods to create a tuple of odd numbers. For ex:- type casting a list of even numbers, making use of for loop,etc."
   ]
  },
  {
   "cell_type": "code",
   "execution_count": 16,
   "id": "3d3a9b57-e22a-4fd7-b0e6-491bc4226ade",
   "metadata": {},
   "outputs": [
    {
     "data": {
      "text/plain": [
       "(1, 3, 5, 7, 9, 10, 12, 14, 16)"
      ]
     },
     "execution_count": 16,
     "metadata": {},
     "output_type": "execute_result"
    }
   ],
   "source": [
    "#Q12]\n",
    "#creating two tuples t1 & t2\n",
    "t1 = (1,3,5,7,9) \n",
    "t2 = (10,12,14,16)\n",
    "#concatenating tuples t1 & t2\n",
    "#displaying it\n",
    "t1+t2"
   ]
  },
  {
   "cell_type": "code",
   "execution_count": 18,
   "id": "05dfa9e3-7042-46e6-b009-754cd01db2ff",
   "metadata": {},
   "outputs": [
    {
     "data": {
      "text/plain": [
       "(1, 3, 5, 7, 9, 1, 3, 5, 7, 9, 1, 3, 5, 7, 9)"
      ]
     },
     "execution_count": 18,
     "metadata": {},
     "output_type": "execute_result"
    }
   ],
   "source": [
    "#Q13]\n",
    "#creating two tuples t1 & t2\n",
    "t1 = (1,3,5,7,9) \n",
    "#to repeat a tuple 3 times we are multiplying t by 3\n",
    "#displaying the output\n",
    "t1 * 3"
   ]
  },
  {
   "cell_type": "code",
   "execution_count": 19,
   "id": "b0d7b66f-36d9-4e78-a824-467c78611d9d",
   "metadata": {},
   "outputs": [
    {
     "name": "stdout",
     "output_type": "stream",
     "text": [
      "Method 1\n",
      "Tuple is empty? False\n",
      "Method 2\n",
      "Tuple is not Empty\n"
     ]
    }
   ],
   "source": [
    "#Q14]\n",
    "#creating a tuple\n",
    "t = (1,2)\n",
    "#method 1\n",
    "print(f\"Method 1\\nTuple is empty? {len(t) == 0}\")\n",
    "#method 2\n",
    "print(\"Method 2\")\n",
    "if len(t) == 0:\n",
    "    print(\"Tuple is Empty\")\n",
    "else:\n",
    "    print(\"Tuple is not Empty\")\n"
   ]
  },
  {
   "cell_type": "code",
   "execution_count": 21,
   "id": "e57362d9-a7b7-4c3b-ab39-517c04798b1a",
   "metadata": {},
   "outputs": [
    {
     "data": {
      "text/plain": [
       "(1, 2, 4, (1, 5), [5, 67], True, 'hello')"
      ]
     },
     "execution_count": 21,
     "metadata": {},
     "output_type": "execute_result"
    }
   ],
   "source": [
    "#Q15]\n",
    "#creating a nested tuple\n",
    "t = (1,2,4,(1,5),[5,67],True,'hello')\n",
    "#displaying the nested tuple\n",
    "t"
   ]
  },
  {
   "cell_type": "code",
   "execution_count": 23,
   "id": "a9c87aaa-c5fd-4e96-8e7e-8e59ff7b6b37",
   "metadata": {},
   "outputs": [
    {
     "data": {
      "text/plain": [
       "1"
      ]
     },
     "execution_count": 23,
     "metadata": {},
     "output_type": "execute_result"
    }
   ],
   "source": [
    "#Q16]\n",
    "#creating a nested tuple\n",
    "t = (1,2,4,(1,5),[5,67],True,'hello')\n",
    "#accessing first element of tuple\n",
    "t[0]"
   ]
  },
  {
   "cell_type": "code",
   "execution_count": 28,
   "id": "ddb80561-8c74-4206-9859-324832d05059",
   "metadata": {},
   "outputs": [
    {
     "data": {
      "text/plain": [
       "(1,)"
      ]
     },
     "execution_count": 28,
     "metadata": {},
     "output_type": "execute_result"
    }
   ],
   "source": [
    "#Q17]\n",
    "#creating a tuple with single element\n",
    "t = (1,)\n",
    "#displaying the tuple\n",
    "t\n"
   ]
  },
  {
   "cell_type": "code",
   "execution_count": 31,
   "id": "fe74ecea-fafd-47df-b02d-9f2969d4e037",
   "metadata": {},
   "outputs": [
    {
     "name": "stdout",
     "output_type": "stream",
     "text": [
      "t1>t2? \n",
      "False\n",
      "t1<t2? \n",
      "True\n",
      "t1==t2? \n",
      "False\n"
     ]
    }
   ],
   "source": [
    "#Q18\n",
    "#creating two tuples t1 & t2\n",
    "t1 = (1,2,3,5)\n",
    "t2 = (1,2,4,6)\n",
    "#comparing tuples t1 & t2 with help of operators\n",
    "print(f\"t1>t2? \\n{t1>t2}\")\n",
    "print(f\"t1<t2? \\n{t1<t2}\")\n",
    "print(f\"t1==t2? \\n{t1==t2}\")"
   ]
  },
  {
   "cell_type": "code",
   "execution_count": 32,
   "id": "c789d1ae-5b9b-43ef-9d98-901cc67b8f26",
   "metadata": {},
   "outputs": [],
   "source": [
    "#Q19]\n",
    "#creating a tuple of integers\n",
    "#tuple is created with help of \"()\" braces\n",
    "t = (1,2,3,4,5)\n",
    "#deleting tuple t with help of del\n",
    "del t"
   ]
  },
  {
   "cell_type": "code",
   "execution_count": 33,
   "id": "50fa9777-e737-4d86-8450-01d16f2ee099",
   "metadata": {},
   "outputs": [
    {
     "name": "stdout",
     "output_type": "stream",
     "text": [
      "Sliced tuple \n",
      "(1, 2)\n"
     ]
    }
   ],
   "source": [
    "#Q20]\n",
    "#creating a tuple of integers\n",
    "#tuple is created with help of \"()\" braces\n",
    "t = (1,2,3,4,5)\n",
    "#Tuple slicing\n",
    "print(f\"Sliced tuple \\n{t[:2]}\")"
   ]
  },
  {
   "cell_type": "code",
   "execution_count": 36,
   "id": "97370d96-093a-44b4-9247-fdbaaafbf769",
   "metadata": {},
   "outputs": [
    {
     "name": "stdout",
     "output_type": "stream",
     "text": [
      "Method 1 \n",
      "maximum = 5\n",
      "Method 2 \n",
      "maximum = 5\n"
     ]
    }
   ],
   "source": [
    "#Q21]\n",
    "#creating a tuple of integers\n",
    "#tuple is created with help of \"()\" braces\n",
    "t = (1,2,3,4,5)\n",
    "#method 1\n",
    "print(f\"Method 1 \\nmaximum = {max(t)}\")\n",
    "#method 2\n",
    "#with help of for loop and variable c to compare\n",
    "c = t[0]\n",
    "#for loop is used to iterate the tuple\n",
    "for i in t:\n",
    "    #comparing the values\n",
    "    if i>c:\n",
    "        #updating the value of c\n",
    "        c = i\n",
    "#printing max\n",
    "print(f\"Method 2 \\nmaximum = {c}\")"
   ]
  },
  {
   "cell_type": "code",
   "execution_count": 37,
   "id": "25285f6c-8de0-4e93-8dcf-a9a4bc4ec0b5",
   "metadata": {},
   "outputs": [
    {
     "name": "stdout",
     "output_type": "stream",
     "text": [
      "Method 1 \n",
      "minimum = 1\n",
      "Method 2 \n",
      "minimum = 1\n"
     ]
    }
   ],
   "source": [
    "#Q22]\n",
    "#creating a tuple of integers\n",
    "#tuple is created with help of \"()\" braces\n",
    "t = (1,2,3,4,5)\n",
    "#method 1\n",
    "print(f\"Method 1 \\nminimum = {min(t)}\")\n",
    "#method 2\n",
    "#with help of for loop and variable c to compare\n",
    "c = t[0]\n",
    "#for loop is used to iterate the tuple\n",
    "for i in t:\n",
    "    #comparing the values\n",
    "    if i<c:\n",
    "        #updating the value of c\n",
    "        c = i\n",
    "#printing min\n",
    "print(f\"Method 2 \\nminimum = {c}\")"
   ]
  },
  {
   "cell_type": "code",
   "execution_count": 76,
   "id": "f180733f-96d2-4e2d-b43c-93084ad27014",
   "metadata": {},
   "outputs": [
    {
     "name": "stdout",
     "output_type": "stream",
     "text": [
      "('h', 'e', 'l', 'l', 'o', ' ', 'w', 'o', 'r', 'l', 'd', '!')\n"
     ]
    }
   ],
   "source": [
    "#Q23]\n",
    "#creating a string \n",
    "s = \"hello world!\"\n",
    "#type casting it to tuple of characters\n",
    "print(tuple(s))"
   ]
  },
  {
   "cell_type": "code",
   "execution_count": 79,
   "id": "5eac9e95-5477-4821-87de-b2eaa9d55447",
   "metadata": {},
   "outputs": [
    {
     "name": "stdout",
     "output_type": "stream",
     "text": [
      "hello world!\n"
     ]
    }
   ],
   "source": [
    "#Q24]\n",
    "#creating a tuple of characters\n",
    "t = ('h', 'e', 'l', 'l', 'o', ' ', 'w', 'o', 'r', 'l', 'd', '!')\n",
    "#converting it to string\n",
    "print(\"\".join(t))\n"
   ]
  },
  {
   "cell_type": "code",
   "execution_count": 81,
   "id": "da8fa32e-d41b-497a-bb65-365fa20cadb8",
   "metadata": {},
   "outputs": [
    {
     "name": "stdout",
     "output_type": "stream",
     "text": [
      "([1, 2], 3, 4.5, True, 's', False, (5+6j), {1, 2}, {'a': 90})\n"
     ]
    }
   ],
   "source": [
    "#Q25]\n",
    "#creating a tuple from multiple data types\n",
    "t = ([1,2],3,4.5,True,'s',False,5+6j,{1,2},{'a':90})\n",
    "print(t)"
   ]
  },
  {
   "cell_type": "code",
   "execution_count": 84,
   "id": "45f3c605-4bc8-4823-b296-b69d834baed6",
   "metadata": {},
   "outputs": [
    {
     "name": "stdout",
     "output_type": "stream",
     "text": [
      "Two tuples are identical\n"
     ]
    }
   ],
   "source": [
    "#Q26]\n",
    "#creating two tuples\n",
    "t1 = (1,2,3,5)\n",
    "t2 = (1,2,3,5)\n",
    "#comparing two tuples\n",
    "if t1 == t2:\n",
    "    print(\"Two tuples are identical\")\n"
   ]
  },
  {
   "cell_type": "code",
   "execution_count": 85,
   "id": "7c485a35-c16e-40f5-ac8d-616b21107e7e",
   "metadata": {},
   "outputs": [
    {
     "name": "stdout",
     "output_type": "stream",
     "text": [
      "[-2, 0, 1, 2, 2, 9, 40, 324]\n"
     ]
    }
   ],
   "source": [
    "#Q27]\n",
    "#creating unsorted tuple\n",
    "t = (2,9,324,2,1,40,-2,0)\n",
    "#sorting the tuple\n",
    "print(sorted(t))"
   ]
  },
  {
   "cell_type": "code",
   "execution_count": 92,
   "id": "984903e5-35ab-4b16-b2af-4b76e322c666",
   "metadata": {},
   "outputs": [
    {
     "name": "stdout",
     "output_type": "stream",
     "text": [
      "('2', '9', '3', '2', '4', '2', '1', '-', '2', '4', '0', '0')\n"
     ]
    }
   ],
   "source": [
    "#Q28]\n",
    "#creating a tuple of integers\n",
    "t = (2,9,324,2,1,-2,40,0)\n",
    "t1 = ()\n",
    "for i in t:\n",
    "    #converting it to tuple of string\n",
    "    t1 += tuple(str(i))\n",
    "print(t1)\n",
    "#there are other ways to acheive this. for ex- using tuple comprehension"
   ]
  },
  {
   "cell_type": "code",
   "execution_count": 96,
   "id": "da2896e1-2dec-4db6-97c8-c726741af547",
   "metadata": {},
   "outputs": [
    {
     "name": "stdout",
     "output_type": "stream",
     "text": [
      "(2, 9, 3, 2, 4, 2, 1, 4, 0, -2, 0)\n"
     ]
    }
   ],
   "source": [
    "#29]\n",
    "#creating a tuple of string\n",
    "t = ('2', '9', '3', '2', '4', '2', '1', '4', '0', '-2', '0')\n",
    "t1 = ()\n",
    "l = []\n",
    "for i in t:\n",
    "    #converting it to tuple of integers\n",
    "    l.append(int(i))\n",
    "print(tuple(l))\n",
    "#there are other ways to acheive this. for ex- using tuple comprehension"
   ]
  },
  {
   "cell_type": "code",
   "execution_count": 97,
   "id": "404dfd07-1fb6-43f6-9e9d-13708a2c1ab0",
   "metadata": {},
   "outputs": [
    {
     "name": "stdout",
     "output_type": "stream",
     "text": [
      "(1, 2, 4, 6, 7, 8)\n"
     ]
    }
   ],
   "source": [
    "#Q30]\n",
    "#creating two tuples\n",
    "t1 = (1,2,4)\n",
    "t2 = (6,7,8)\n",
    "#merging them\n",
    "print(t1+t2)"
   ]
  },
  {
   "cell_type": "code",
   "execution_count": 100,
   "id": "74bde51a-b68c-4e0b-8b5f-a6bd918d2ec5",
   "metadata": {},
   "outputs": [
    {
     "name": "stdout",
     "output_type": "stream",
     "text": [
      "(3, 6, 5, 4, 3, 2, 1)\n"
     ]
    }
   ],
   "source": [
    "#Q31]\n",
    "#creating a nested tuple\n",
    "t = (1,2,3,4,(5,6,(3)))\n",
    "l = [t]\n",
    "f_t=[]\n",
    "#will run till the list is exhausted\n",
    "while l:\n",
    "    #poping the ladt element of list\n",
    "    c = l.pop()\n",
    "    #extending the list if we find a tuple\n",
    "    if isinstance(c,tuple):\n",
    "        l.extend(c)\n",
    "    #appending the element to a new list if it is not a tuple\n",
    "    else:\n",
    "        f_t.append(c)\n",
    "#type casting the list to tuple\n",
    "print(tuple(f_t))"
   ]
  },
  {
   "cell_type": "code",
   "execution_count": 101,
   "id": "feb9c449-b5a8-4f75-b258-5b405085bbbe",
   "metadata": {},
   "outputs": [
    {
     "name": "stdout",
     "output_type": "stream",
     "text": [
      "(2, 3, 5, 7, 11)\n"
     ]
    }
   ],
   "source": [
    "#Q32]\n",
    "l = []\n",
    "i = 2\n",
    "while len(l) != 5:\n",
    "    c = 0  # Reset the count of factors for each number being tested\n",
    "    #using this loop to generate prime numbers\n",
    "    for j in range(1, i + 1):\n",
    "        #checking for divisibility\n",
    "        if i % j == 0:\n",
    "            c += 1\n",
    "    if c == 2:\n",
    "        l.append(i)\n",
    "    #iterating i\n",
    "    i += 1\n",
    "#type casting the list of prime numbers to tuple\n",
    "print(tuple(l))"
   ]
  },
  {
   "cell_type": "code",
   "execution_count": 102,
   "id": "de1e0965-7795-4e31-965c-93f349360b86",
   "metadata": {},
   "outputs": [
    {
     "name": "stdout",
     "output_type": "stream",
     "text": [
      "Tuple is Palindrome\n"
     ]
    }
   ],
   "source": [
    "#Q33]\n",
    "#creating a tuple\n",
    "t = (1,2,1)\n",
    "#checking for palindrome condition\n",
    "if t == t[::-1]:\n",
    "    print(\"Tuple is Palindrome\")\n"
   ]
  },
  {
   "cell_type": "code",
   "execution_count": 37,
   "id": "df481089-566d-44a1-a5c1-95bf2ca7c424",
   "metadata": {},
   "outputs": [
    {
     "name": "stdout",
     "output_type": "stream",
     "text": [
      "Tuple of squares :\n",
      " (1, 4, 9, 16, 25)\n"
     ]
    }
   ],
   "source": [
    "#Q34]\n",
    "#creating a tuple of squares from 1-5\n",
    "#we can acheive it using different methods\n",
    "#using list comprehension and then typcasting it to tuple\n",
    "print(\"Tuple of squares :\\n\",tuple([i**2 for i in range(1,6)]))\n"
   ]
  },
  {
   "cell_type": "code",
   "execution_count": 41,
   "id": "e7605be8-0697-495e-9e06-6f4cb4feff42",
   "metadata": {},
   "outputs": [
    {
     "name": "stdout",
     "output_type": "stream",
     "text": [
      "(2, 4, 8)\n"
     ]
    }
   ],
   "source": [
    "#Q35]\n",
    "#creating a tuple of integers\n",
    "tuple_num = (1,2,4,5,7,8)\n",
    "#filtering out the even numbers using filter and lambda function\n",
    "print(tuple(filter(lambda x:x%2==0,tuple_num)))\n",
    "#this can be acheived using different methods"
   ]
  },
  {
   "cell_type": "code",
   "execution_count": 42,
   "id": "3d7d70c7-e6bf-49ad-b942-854665c0dfc7",
   "metadata": {},
   "outputs": [
    {
     "name": "stdout",
     "output_type": "stream",
     "text": [
      "(2, 4, 8, 10, 14, 16)\n"
     ]
    }
   ],
   "source": [
    "#Q36]\n",
    "#creating a tuple of numbers\n",
    "tuple_num = (1,2,4,5,7,8)\n",
    "#mapping all the elements and using lambda function multiplying them by 2\n",
    "print(tuple(map(lambda x:x*2 , tuple_num)))"
   ]
  },
  {
   "cell_type": "code",
   "execution_count": 67,
   "id": "aa59a33e-4eb4-461b-9783-8a6bdcfcba9c",
   "metadata": {},
   "outputs": [
    {
     "name": "stdout",
     "output_type": "stream",
     "text": [
      "(81, 37, 27, 37, 76, 1)\n"
     ]
    }
   ],
   "source": [
    "\n",
    "#Q37]\n",
    "#creating a tuple of random numbers\n",
    "import random\n",
    "tuple_num = []\n",
    "#iterating for a random range\n",
    "for i in range(1,random.randint(1,10)):\n",
    "    #appending randome elements to the list\n",
    "    tuple_num.append(random.randint(1,99))\n",
    "#type casting the list to tuple\n",
    "print(tuple(tuple_num))\n",
    "\n",
    "\n"
   ]
  },
  {
   "cell_type": "code",
   "execution_count": 71,
   "id": "a1de2578-2e28-4b00-af64-fcc85c6e9e0f",
   "metadata": {},
   "outputs": [
    {
     "name": "stdout",
     "output_type": "stream",
     "text": [
      "Tuple is not sorted\n"
     ]
    }
   ],
   "source": [
    "#Q38]\n",
    "#creating a tuple\n",
    "tuple_num = (1,2,4,5,6,92,0,1)\n",
    "#checking if the tuple is sorted\n",
    "if sorted(tuple_num)==tuple_num:\n",
    "    print(\"Tuple is sorted\")\n",
    "else:\n",
    "    print(\"Tuple is not sorted\")"
   ]
  },
  {
   "cell_type": "code",
   "execution_count": 74,
   "id": "0a8e5305-aced-433d-877a-45421673018c",
   "metadata": {},
   "outputs": [
    {
     "name": "stdout",
     "output_type": "stream",
     "text": [
      "(1, 2, 4, 5, 6, 7, 8, 9, 10)\n"
     ]
    },
    {
     "name": "stdin",
     "output_type": "stream",
     "text": [
      "Enter the position 2\n"
     ]
    },
    {
     "name": "stdout",
     "output_type": "stream",
     "text": [
      "(9, 10, 1, 2, 4, 5, 6, 7, 8)\n"
     ]
    }
   ],
   "source": [
    "#Q39]\n",
    "tuple_num = (1,2,4,5,6,7,8,9,10)\n",
    "print(l)\n",
    "n = int(input(\"Enter the position\"))\n",
    "#checking if the mentioned position is valid by checking  if the entered position is positive\n",
    "if n>0:\n",
    "    #rotating the list n times\n",
    "    n%=len(l)\n",
    "    l1 = []\n",
    "    #using list slicing rotating the list to left by n-postions\n",
    "    l1 = tuple_num[-n:]+tuple_num[:-n]\n",
    "    #type casting it to tuple\n",
    "    print(tuple(l1))\n",
    "else:\n",
    "    print(\"invalid position\")\n"
   ]
  },
  {
   "cell_type": "code",
   "execution_count": 75,
   "id": "31918ed4-8784-4e77-8e07-7a7f2bfac450",
   "metadata": {},
   "outputs": [
    {
     "name": "stdout",
     "output_type": "stream",
     "text": [
      "(1, 2, 4, 5, 6, 7, 8, 9, 10)\n"
     ]
    },
    {
     "name": "stdin",
     "output_type": "stream",
     "text": [
      "Enter the position 2\n"
     ]
    },
    {
     "name": "stdout",
     "output_type": "stream",
     "text": [
      "(4, 5, 6, 7, 8, 9, 10, 1, 2)\n"
     ]
    }
   ],
   "source": [
    "#Q40]\n",
    "tuple_num = (1,2,4,5,6,7,8,9,10)\n",
    "print(l)\n",
    "n = int(input(\"Enter the position\"))\n",
    "#checking if the mentioned position is valid by checking if the entered position is positive\n",
    "if n>0:\n",
    "    #rotating the list n times\n",
    "    n%=len(l)\n",
    "    l1 = []\n",
    "    #using list slicing rotating the list to right by n-postions\n",
    "    l1 = tuple_num[n:]+tuple_num[:n]\n",
    "    #type casting it to tuple\n",
    "    print(tuple(l1))\n",
    "else:\n",
    "    print(\"invalid position\")\n"
   ]
  },
  {
   "cell_type": "code",
   "execution_count": null,
   "id": "b4489a77-362e-41cc-ab92-2ce298913b80",
   "metadata": {},
   "outputs": [],
   "source": [
    "#Q41]\n",
    "a,b=0,1\n",
    "list_tup=[0,1]\n",
    "for i in range(2,5):\n",
    "    c=a+b\n",
    "    a=b\n",
    "    b=i\n",
    "    list_tup.append(c)\n",
    "print(tuple(list_tup))"
   ]
  },
  {
   "cell_type": "code",
   "execution_count": 79,
   "id": "e47bd921-a95a-4142-8ebd-d85aaa32b3b9",
   "metadata": {},
   "outputs": [
    {
     "name": "stdin",
     "output_type": "stream",
     "text": [
      "Enter the elements 234\n"
     ]
    },
    {
     "name": "stdout",
     "output_type": "stream",
     "text": [
      "Tuple1 :('2', '3', '4')\n"
     ]
    },
    {
     "name": "stdin",
     "output_type": "stream",
     "text": [
      "enter the limit 2\n",
      "Enter the element 1\n",
      "Enter the element 2\n"
     ]
    },
    {
     "name": "stdout",
     "output_type": "stream",
     "text": [
      "Tuple2 :('1', '2')\n"
     ]
    }
   ],
   "source": [
    "#Q42]\n",
    "#METHOD 1\n",
    "#creating a tuple from user input\n",
    "tuple1 = tuple(input(\"Enter the elements\"))\n",
    "print(f\"Tuple1 :{tuple1}\")\n",
    "#METHOD 2\n",
    "list_temp=[]\n",
    "n=int(input('enter the limit'))\n",
    "for i in range(n):\n",
    "    element=input('Enter the element')\n",
    "    list_temp.append(element)\n",
    "tuple2=tuple(list_temp)\n",
    "print(f\"Tuple2 :{tuple2}\")"
   ]
  },
  {
   "cell_type": "code",
   "execution_count": 89,
   "id": "66a80f20-c622-4bd7-ae3f-c00fd0473ee5",
   "metadata": {},
   "outputs": [
    {
     "name": "stdout",
     "output_type": "stream",
     "text": [
      "Tuple before Swapping :\n",
      "(1, 2, 3, 4, 5)\n"
     ]
    },
    {
     "name": "stdin",
     "output_type": "stream",
     "text": [
      "enter the element you want to swap 1\n",
      "Enter the element you want to swap 5\n"
     ]
    },
    {
     "name": "stdout",
     "output_type": "stream",
     "text": [
      "(5, 2, 3, 4, 1)\n"
     ]
    }
   ],
   "source": [
    "#Q43]\n",
    "#creating a tuple t\n",
    "t = (1,2,3,4,5)\n",
    "print(f\"Tuple before Swapping :\\n{t}\")\n",
    "n1,n2= int(input(\"enter the element you want to swap\")), int(input(\"Enter the element you want to swap\"))\n",
    "if n1 in t and n2 in t :\n",
    "    index_n1 = t.index(n1)\n",
    "    index_n2 = t.index(n2)\n",
    "    swap_tuple = list(t)\n",
    "    swap_tuple[index_n1],swap_tuple[index_n2]=swap_tuple[index_n2],swap_tuple[index_n1]\n",
    "    print(tuple(swap_tuple))\n",
    "else:\n",
    "    print('Enter valid elements')\n"
   ]
  },
  {
   "cell_type": "code",
   "execution_count": 80,
   "id": "d1afb45e-1414-4bdc-99f2-bb2f9fa2f04b",
   "metadata": {},
   "outputs": [
    {
     "name": "stdout",
     "output_type": "stream",
     "text": [
      "(6, 45, 3, 2, 8, 9)\n"
     ]
    }
   ],
   "source": [
    "#Q44]\n",
    "#creating a tuple\n",
    "tuple1=(9,8,2,3,45,6)\n",
    "a=list(tuple1)\n",
    "#reversing it permanently using .reverse() method \n",
    "a.reverse()\n",
    "print(tuple(a))"
   ]
  },
  {
   "cell_type": "code",
   "execution_count": 35,
   "id": "8bd5ec1d-7607-45b8-ae08-6dd32ca932e3",
   "metadata": {},
   "outputs": [
    {
     "name": "stdin",
     "output_type": "stream",
     "text": [
      "Enter the 'n' power of 2 5\n"
     ]
    },
    {
     "name": "stdout",
     "output_type": "stream",
     "text": [
      "'n' powers of 2 :\n",
      "(2, 4, 8, 16, 32)\n"
     ]
    }
   ],
   "source": [
    "#Q45]\n",
    "#creating s list of 'n' powers of 2 using list comprehension and then typ casting it to tuple\n",
    "n = int(input(\"Enter the 'n' power of 2\"))\n",
    "x = tuple([2**i for i in range(1,n+1)])\n",
    "print(f\"'n' powers of 2 :\\n{x}\")"
   ]
  },
  {
   "cell_type": "code",
   "execution_count": null,
   "id": "5308fe94-e49b-4265-a5c4-7510f1a725aa",
   "metadata": {},
   "outputs": [
    {
     "name": "stdout",
     "output_type": "stream",
     "text": [
      "Longest String :\n",
      "How is everythin going\n"
     ]
    }
   ],
   "source": [
    "#Q46]\n",
    "#creating a tuple of string\n",
    "list_words = ('Hello World.', 'How is everythin going')\n",
    "#using built in max() function to find longest string in tuple of strings\n",
    "print(f\"Longest String :\\n{max(tuple_words)}\")\n",
    "#there are different methods to acheive this\n"
   ]
  },
  {
   "cell_type": "code",
   "execution_count": 34,
   "id": "c8fa19c3-ec5b-4610-a69a-40e903866a20",
   "metadata": {},
   "outputs": [
    {
     "name": "stdout",
     "output_type": "stream",
     "text": [
      "Shortest String :\n",
      "Hello World.\n"
     ]
    }
   ],
   "source": [
    "#Q47]\n",
    "#creating a tuple of string\n",
    "tuple_words = ('Hello World.', 'How is everythin going')\n",
    "#using built in min() function to find lest string in tuple of strings\n",
    "print(f\"Shortest String :\\n{min(tuple_words)}\")\n",
    "#there are different methods to acheive this"
   ]
  },
  {
   "cell_type": "code",
   "execution_count": 33,
   "id": "ede986f5-9480-429f-bf29-aa994e6ab5c0",
   "metadata": {},
   "outputs": [
    {
     "name": "stdin",
     "output_type": "stream",
     "text": [
      "Enter the nth number 5\n"
     ]
    },
    {
     "name": "stdout",
     "output_type": "stream",
     "text": [
      "Series :\n",
      "(1, 3, 6, 10, 15)\n"
     ]
    }
   ],
   "source": [
    "#Q48]\n",
    "n = int(input(\"Enter the nth number\"))\n",
    "triang_list = [] \n",
    "#iterating for n times to find n triangular numbers\n",
    "for i in range(1,n+1):\n",
    "    #calculating traingular number\n",
    "    tn = (i*(i+1))//2\n",
    "    triang_list.append(tn)\n",
    "#type casting it to tuple\n",
    "print(f\"Series :\\n{tuple(triang_list)}\")"
   ]
  },
  {
   "cell_type": "code",
   "execution_count": 39,
   "id": "e7d5c42e-19ee-443a-907b-ed7c6d7ede8c",
   "metadata": {},
   "outputs": [
    {
     "name": "stdout",
     "output_type": "stream",
     "text": [
      "Tuple contains another tuple as a subsequence\n"
     ]
    }
   ],
   "source": [
    "#Q49]\n",
    "#creating a tuple of tuples\n",
    "tuple1 = (1,2,(True,False))\n",
    "#iterating data in tuple1\n",
    "for data in tuple1:\n",
    "    #checking if type of data == tuple\n",
    "    if type(data) == tuple:\n",
    "        print(\"Tuple contains another tuple as a subsequence\")\n",
    "        break\n",
    "else:\n",
    "    print(\"Tuple contains another tuple as a subsequence\")"
   ]
  },
  {
   "cell_type": "code",
   "execution_count": 38,
   "id": "bf5ff066-d468-4d33-995c-f94ffc2de309",
   "metadata": {},
   "outputs": [
    {
     "name": "stdin",
     "output_type": "stream",
     "text": [
      "Enter the nth length 5\n"
     ]
    },
    {
     "name": "stdout",
     "output_type": "stream",
     "text": [
      "Tuple of 1s and 0s :\n",
      "(1, 0, 1, 0, 1)\n"
     ]
    }
   ],
   "source": [
    "#Q50]\n",
    "#creating a list of alternating 1s and 0s of length n using list comprehension and then type casting it to tuple\n",
    "n = int(input(\"Enter the nth length\"))\n",
    "x = tuple([1 if i%2!=0 else 0 for i in range(1,n+1)])\n",
    "print(f\"Tuple of 1s and 0s :\\n{x}\")"
   ]
  },
  {
   "cell_type": "markdown",
   "id": "639f2bc4-3654-475d-aca8-b817d5babb28",
   "metadata": {
    "tags": []
   },
   "source": [
    "Set Based Practice Problem :"
   ]
  },
  {
   "cell_type": "code",
   "execution_count": 60,
   "id": "729f0781-aceb-4a88-8827-ad5a2e0108e1",
   "metadata": {},
   "outputs": [],
   "source": [
    "#Q1]\n",
    "#Creating a set of integers from 1 to 5\n",
    "#Set is defined with help of '{}' braces. It has only unique elements\n",
    "s = {1,2,3,4,5}\n",
    "#using set comprehension we can acheive the same\n",
    "s1 = {i for i in range(1,6)}"
   ]
  },
  {
   "cell_type": "code",
   "execution_count": 65,
   "id": "1bb8e542-45e7-40bc-bd63-fe4eb541f848",
   "metadata": {},
   "outputs": [],
   "source": [
    "#Q2]\n",
    "#Creating a set of integers \n",
    "#Set is defined with help of '{}' braces. It has only unique elements\n",
    "s = {1,2,3,4,5}\n",
    "#Using .add() method to add an element to the set\n",
    "s.add(10)\n"
   ]
  },
  {
   "cell_type": "code",
   "execution_count": 71,
   "id": "e9a9be7f-1775-4ecd-aeb4-320090adcdb8",
   "metadata": {},
   "outputs": [
    {
     "name": "stdout",
     "output_type": "stream",
     "text": [
      "1\n"
     ]
    },
    {
     "data": {
      "text/plain": [
       "{3, 4, 5}"
      ]
     },
     "execution_count": 71,
     "metadata": {},
     "output_type": "execute_result"
    }
   ],
   "source": [
    "#Q3]\n",
    "#Creating a set of integers \n",
    "#Set is defined with help of '{}' braces. It has only unique elements\n",
    "s = {1,2,3,4,5}\n",
    "#we can use .pop() method to delete an element at a specifed index. when the index isnt mentioned the first element is deleted. returns the deleted element\n",
    "print(s.pop())\n",
    "#we can also use .remove method to delete an element of set by mentioning the element as an argument\n",
    "s.remove(2)\n",
    "#displaying the set\n",
    "s"
   ]
  },
  {
   "cell_type": "code",
   "execution_count": 72,
   "id": "991851d7-e435-4f07-8c81-3f99f27a0129",
   "metadata": {},
   "outputs": [
    {
     "name": "stdout",
     "output_type": "stream",
     "text": [
      "Element 10 exists in set s?\n",
      "False\n",
      "Element 1 exists in the set s\n"
     ]
    }
   ],
   "source": [
    "#Q4]\n",
    "#Creating a set of integers \n",
    "#Set is defined with help of '{}' braces. It has only unique elements\n",
    "s = {1,2,3,4,5}\n",
    "#Method 1\n",
    "#Using in membership operator to check if the element is present in the set. If the expression returns True the element exists, if the expression returns False the element is not present in the set s\n",
    "print(f\"Element 10 exists in set s?\\n{10 in s}\")\n",
    "#Method 2\n",
    "#Using if-else block\n",
    "if 1 in s:\n",
    "    print(\"Element 1 exists in the set s\")\n",
    "else: \n",
    "    print(\"Element 1 does not exist in the set s t\")"
   ]
  },
  {
   "cell_type": "code",
   "execution_count": 74,
   "id": "bb68d8ce-d94b-45b6-91fc-36953c4d994d",
   "metadata": {},
   "outputs": [
    {
     "name": "stdout",
     "output_type": "stream",
     "text": [
      "length of set = 5\n"
     ]
    }
   ],
   "source": [
    "#Q5\n",
    "#Creating a set of integers \n",
    "#Set is defined with help of '{}' braces. It has only unique elements\n",
    "s = {1,2,3,4,5}\n",
    "#To find the length of set s. we will define counter c to 0 and use for loop to increase the counter and find the length of the set s\n",
    "c = 0\n",
    "for i in s:\n",
    "    c+=1\n",
    "#printing the length of the set i.e c with help of f string \n",
    "print(f\"length of set = {c}\")"
   ]
  },
  {
   "cell_type": "code",
   "execution_count": 77,
   "id": "297afa8b-6d71-4e87-b07e-d991fd494d2a",
   "metadata": {},
   "outputs": [
    {
     "name": "stdout",
     "output_type": "stream",
     "text": [
      "set()\n"
     ]
    }
   ],
   "source": [
    "#Q6]\n",
    "#Creating a set of integers \n",
    "#Set is defined with help of '{}' braces. It has only unique elements\n",
    "s = {1,2,3,4,5}\n",
    "#using .clear() method to clear all the elements of the set\n",
    "s.clear()\n",
    "#printing the set after clearing all the elements from the set\n",
    "print(s)"
   ]
  },
  {
   "cell_type": "code",
   "execution_count": 78,
   "id": "70c7ac98-968b-4517-b500-d5dfefc13c40",
   "metadata": {},
   "outputs": [
    {
     "name": "stdout",
     "output_type": "stream",
     "text": [
      "set s \n",
      "{2, 4, 6, 8, 10}\n",
      "set s1 \n",
      "{2, 4, 6, 8, 10}\n"
     ]
    }
   ],
   "source": [
    "#Q7]\n",
    "#creating a set of even integers from 1-10\n",
    "#Method 1 \n",
    "#assigning the values\n",
    "s = {2,4,6,8,10}\n",
    "print(f\"set s \\n{s}\")\n",
    "#Method 2\n",
    "#using list comprehension and converting it to tuple using tuple() function\n",
    "s1 = {i for i in range(1,11) if i%2==0}\n",
    "print(f\"set s1 \\n{s1}\")\n",
    "#There are more methods to create a set of even numbers. For ex:- type casting a list of even numbers, making use of for loop,etc."
   ]
  },
  {
   "cell_type": "code",
   "execution_count": 82,
   "id": "29710ba1-1bdd-44a9-834b-4c6b1570ce82",
   "metadata": {},
   "outputs": [
    {
     "name": "stdout",
     "output_type": "stream",
     "text": [
      "set s \n",
      "{1, 3, 5, 7, 9}\n",
      "set s1 \n",
      "{1, 3, 5, 7, 9}\n"
     ]
    }
   ],
   "source": [
    "#Q8]\n",
    "#creating a set of even integers from 1-10\n",
    "#Method 1 \n",
    "#assigning the values\n",
    "s = {1,3,5,7,9}\n",
    "print(f\"set s \\n{s}\")\n",
    "#Method 2\n",
    "#using list comprehension and converting it to tuple using tuple() function\n",
    "s1 = {i for i in range(1,11) if i%2!=0}\n",
    "print(f\"set s1 \\n{s1}\")\n",
    "#There are more methods to create a set of even numbers. For ex:- type casting a list of odd numbers, making use of for loop,etc."
   ]
  },
  {
   "cell_type": "code",
   "execution_count": 83,
   "id": "013c87d3-5a0e-483d-a581-241dfde57a3d",
   "metadata": {},
   "outputs": [
    {
     "data": {
      "text/plain": [
       "{1, 2, 3, 4, 5, 6, 7, 8, 9, 10}"
      ]
     },
     "execution_count": 83,
     "metadata": {},
     "output_type": "execute_result"
    }
   ],
   "source": [
    "#Q9]\n",
    "#creating two set of integers\n",
    "#Set is defined with help of '{}' braces. It has only unique elements\n",
    "s1 = {2,4,6,8,10}\n",
    "s2 = {1,3,5,7,9}\n",
    "#using .union() method to find the union between two sets. returns the union of elements that are present in either set\n",
    "s1.union(s2)\n"
   ]
  },
  {
   "cell_type": "code",
   "execution_count": 84,
   "id": "cb8cf0be-9cf9-46fe-9688-b82c86858fde",
   "metadata": {},
   "outputs": [
    {
     "data": {
      "text/plain": [
       "{1, 2}"
      ]
     },
     "execution_count": 84,
     "metadata": {},
     "output_type": "execute_result"
    }
   ],
   "source": [
    "#Q10]\n",
    "#creating two set of integers\n",
    "#Set is defined with help of '{}' braces. It has only unique elements\n",
    "s1 = {1,2,4,6,8,10}\n",
    "s2 = {1,2,3,5,7,9}\n",
    "#using .intersction() method to find the intersection between two sets. returns the intersection of elements that are present in both set\n",
    "s1.intersection(s2)\n"
   ]
  },
  {
   "cell_type": "code",
   "execution_count": 86,
   "id": "02d7ee01-3f72-4caf-accf-bf8730ee19a8",
   "metadata": {},
   "outputs": [
    {
     "data": {
      "text/plain": [
       "{4, 6, 8, 10}"
      ]
     },
     "execution_count": 86,
     "metadata": {},
     "output_type": "execute_result"
    }
   ],
   "source": [
    "#Q11]\n",
    "#creating two set of integers\n",
    "#Set is defined with help of '{}' braces. It has only unique elements\n",
    "s1 = {1,2,4,6,8,10}\n",
    "s2 = {1,2,3,5,7,9}\n",
    "#using .difference to find the difference between two sets. returns elements that are in s1 but not in s2\n",
    "s1.difference(s2)"
   ]
  },
  {
   "cell_type": "code",
   "execution_count": 39,
   "id": "6b025703-c190-4705-9786-9baeb0efcf7d",
   "metadata": {},
   "outputs": [
    {
     "name": "stdout",
     "output_type": "stream",
     "text": [
      "True\n"
     ]
    }
   ],
   "source": [
    "#Q12]\n",
    "#creating two set of integers\n",
    "#Set is defined with help of '{}' braces. It has only unique elements\n",
    "s1 = {1,2,4,6,8,10}\n",
    "s2 = {1,2}\n",
    "#using .issubset to check is s1 is subset of s2\n",
    "print(s2.issubset(s1))"
   ]
  },
  {
   "cell_type": "code",
   "execution_count": 40,
   "id": "a7f2558b-5f9a-414f-aa7a-466626e9dc1f",
   "metadata": {},
   "outputs": [
    {
     "name": "stdout",
     "output_type": "stream",
     "text": [
      "True\n"
     ]
    }
   ],
   "source": [
    "#Q13\n",
    "#creating two set of integers\n",
    "#Set is defined with help of '{}' braces. It has only unique elements\n",
    "s1 = {1,2,4,6,8,10}\n",
    "s2 = {1,2}\n",
    "#using .issuperset to check is s1 is superset of s2\n",
    "print(s1.issuperset(s2))"
   ]
  },
  {
   "cell_type": "code",
   "execution_count": 41,
   "id": "fc19537e-89e6-480f-869a-f8009651d910",
   "metadata": {},
   "outputs": [
    {
     "name": "stdout",
     "output_type": "stream",
     "text": [
      "{34, 3, 4, 5, 325, 6, 7, 12}\n"
     ]
    }
   ],
   "source": [
    "#Q14]\n",
    "#creating a list and type casting it to set using set() inbuilt function\n",
    "s = set([12,34,325,5,6,7,7,3,4])\n",
    "print(s)\n"
   ]
  },
  {
   "cell_type": "code",
   "execution_count": 42,
   "id": "0e9086e3-8940-4da4-84a2-1c722a0b1f3e",
   "metadata": {},
   "outputs": [
    {
     "name": "stdout",
     "output_type": "stream",
     "text": [
      "[34, 3, 4, 5, 325, 6, 7, 12]\n"
     ]
    }
   ],
   "source": [
    "#15]\n",
    "#creating a set and type casting it to list\n",
    "l = list({34, 3, 4, 5, 325, 6, 7, 12})\n",
    "print(l)"
   ]
  },
  {
   "cell_type": "code",
   "execution_count": 50,
   "id": "7f35427e-53a7-421b-92bf-15c615de36b7",
   "metadata": {},
   "outputs": [
    {
     "name": "stdout",
     "output_type": "stream",
     "text": [
      "{1, 2, 4, 5}\n"
     ]
    }
   ],
   "source": [
    "#Q16]\n",
    "#Creating a set of integers \n",
    "#Set is defined with help of '{}' braces. It has only unique elements\n",
    "import random\n",
    "s = {1,2,3,4,5}\n",
    "#using .remove() method and importing random to delete a random element from the set\n",
    "s.remove(random.randint(1,6))\n",
    "print(s)"
   ]
  },
  {
   "cell_type": "code",
   "execution_count": 52,
   "id": "61e29f8e-0de1-4df6-bde9-7876e8d1d1b3",
   "metadata": {},
   "outputs": [
    {
     "data": {
      "text/plain": [
       "1"
      ]
     },
     "execution_count": 52,
     "metadata": {},
     "output_type": "execute_result"
    }
   ],
   "source": [
    "#Q17]\n",
    "#Creating a set of integers \n",
    "#Set is defined with help of '{}' braces. It has only unique elements\n",
    "s = {1,2,3,4,5}\n",
    "#using .pop() to pop element from the set\n",
    "s.pop()"
   ]
  },
  {
   "cell_type": "code",
   "execution_count": 55,
   "id": "2c48d218-e012-4d36-888c-68fa8b59face",
   "metadata": {},
   "outputs": [
    {
     "name": "stdout",
     "output_type": "stream",
     "text": [
      "Set {1, 2, 4, 6, 8, 10} and Set {11, 13} has no elements in common\n"
     ]
    },
    {
     "data": {
      "text/plain": [
       "True"
      ]
     },
     "execution_count": 55,
     "metadata": {},
     "output_type": "execute_result"
    }
   ],
   "source": [
    "#Q18]\n",
    "#creating two set of integers\n",
    "#Set is defined with help of '{}' braces. It has only unique elements\n",
    "#Method 1\n",
    "s1 = {1,2,4,6,8,10}\n",
    "s2 = {11,13}\n",
    "if len(s1.intersection(s2)) == 0:\n",
    "    print(f\"Set {s1} and Set {s2} has no elements in common\")\n",
    "else:\n",
    "    print(f\"Set {s1} and Set {s2} has elements in common\")\n",
    "#Method 2\n",
    "s1.isdisjoint(s2)"
   ]
  },
  {
   "cell_type": "code",
   "execution_count": 60,
   "id": "e5115696-e83e-4d83-814d-6b82a5c9d783",
   "metadata": {},
   "outputs": [
    {
     "name": "stdout",
     "output_type": "stream",
     "text": [
      "{1, 2, 4, 6, 8, 10, 11, 13}\n"
     ]
    }
   ],
   "source": [
    "#19]\n",
    "#creating two set of integers\n",
    "#Set is defined with help of '{}' braces. It has only unique elements\n",
    "s1 = {1,2,4,6,8,10}\n",
    "s2 = {11,13}\n",
    "#using .symmetric_difference to find symmetric difference between two sets. Return the symmetric difference of two sets as a new set.\n",
    "print(s1.symmetric_difference(s2))"
   ]
  },
  {
   "cell_type": "code",
   "execution_count": 61,
   "id": "810729ab-1fd9-4441-80de-883b1e3732c4",
   "metadata": {
    "tags": []
   },
   "outputs": [
    {
     "name": "stdout",
     "output_type": "stream",
     "text": [
      "{1, 2, 4, 6, 8, 10, 11, 13}\n"
     ]
    }
   ],
   "source": [
    "#20]\n",
    "#creating two set of integers\n",
    "#Set is defined with help of '{}' braces. It has only unique elements\n",
    "s1 = {1,2,4,6,8,10}\n",
    "s2 = {11,13}\n",
    "#using .update() to update the elements of s2 to s1\n",
    "s1.update(s2)\n",
    "print(s1)\n"
   ]
  },
  {
   "cell_type": "code",
   "execution_count": 64,
   "id": "46c66359-152a-4373-9fd6-3f4a97136f40",
   "metadata": {},
   "outputs": [
    {
     "name": "stdout",
     "output_type": "stream",
     "text": [
      "{2, 3, 5, 7, 11}\n"
     ]
    }
   ],
   "source": [
    "#21]\n",
    "l = []\n",
    "n = 2\n",
    "#using while loop to get 5 prime numbers\n",
    "#prime numbers are numbers that can only be completely divided by itself and 1. \n",
    "while len(l)!=5:\n",
    "    #with help of counter c we are counting number of elements that can divide n\n",
    "    c = 0\n",
    "    #with help of for loop we are iterating to check whether a number is prime or not \n",
    "    for i in range(1,n+1):\n",
    "        #using divisibilty test and counter to find prime numbers\n",
    "        if n%i==0:\n",
    "            c+=1\n",
    "    #doing the divisibility test and appending the element\n",
    "    if c == 2:\n",
    "        l.append(n)\n",
    "    #iterating n so that we get 5 prime numbers and while loop terminates, avoiding infinity loop\n",
    "    n+=1\n",
    "print(set(l))\n",
    "            \n"
   ]
  },
  {
   "cell_type": "code",
   "execution_count": 58,
   "id": "8ab634a6-5620-4be5-9f11-9a71f87057e3",
   "metadata": {},
   "outputs": [
    {
     "name": "stdout",
     "output_type": "stream",
     "text": [
      "{1, 2, 4, 6, 8, 10} and {1, 2, 4, 6, 8, 10} are identical\n"
     ]
    }
   ],
   "source": [
    "#22]\n",
    "#creating two set of integers\n",
    "#Set is defined with help of '{}' braces. It has only unique elements\n",
    "s1 = {1,2,4,6,8,10}\n",
    "s2 = {1,2,4,6,8,10}\n",
    "if s1 == s2:\n",
    "    print(f\"{s1} and {s2} are identical\")\n",
    "else:\n",
    "    print(f\"{s1} and {s2} are not identical\")\n",
    "    "
   ]
  },
  {
   "cell_type": "code",
   "execution_count": 103,
   "id": "1ad51acf-bf5b-434d-9b20-3e8c4227039c",
   "metadata": {},
   "outputs": [
    {
     "name": "stdout",
     "output_type": "stream",
     "text": [
      "frozenset({1, 2, 4})\n"
     ]
    }
   ],
   "source": [
    "#Q23]\n",
    "#creating a set\n",
    "set_s = {1,2,4}\n",
    "#creating a frozen set\n",
    "frozen_set = frozenset(set_s)\n",
    "print(frozen_set)"
   ]
  },
  {
   "cell_type": "code",
   "execution_count": 106,
   "id": "cbe8d44d-e3f2-46c9-ab16-c4a73e2106c3",
   "metadata": {},
   "outputs": [
    {
     "name": "stdout",
     "output_type": "stream",
     "text": [
      "True\n"
     ]
    }
   ],
   "source": [
    "#Q24]\n",
    "#creating two sets\n",
    "set_1 = {1,12,3}\n",
    "set_2 = {10,4,5}\n",
    "#checking if the sets are disjoint using .disjoint() method\n",
    "print(set_1.isdisjoint(set_2))"
   ]
  },
  {
   "cell_type": "code",
   "execution_count": 110,
   "id": "f750c20b-eb9a-4302-b715-ee77af9e80b4",
   "metadata": {},
   "outputs": [
    {
     "name": "stdout",
     "output_type": "stream",
     "text": [
      "{16, 1, 4, 9}\n"
     ]
    }
   ],
   "source": [
    "#Q25]\n",
    "#creating an empty list\n",
    "set_square = []\n",
    "#using loop to iterate 1-5\n",
    "for i in range(1,5):\n",
    "    #adding the squared elements\n",
    "    set_square.append(i**2)\n",
    "print(set(set_square))"
   ]
  },
  {
   "cell_type": "code",
   "execution_count": 114,
   "id": "f881ba21-4605-42d8-a766-21f3888a116b",
   "metadata": {},
   "outputs": [
    {
     "name": "stdout",
     "output_type": "stream",
     "text": [
      "{1, 9}\n"
     ]
    }
   ],
   "source": [
    "#Q26]\n",
    "#creating a set of numbers\n",
    "set_num = {16, 1, 4, 9}\n",
    "filtered_set = []\n",
    "#using to iterate the elements of set\n",
    "for i in set_num:\n",
    "    #checking the condition for even numbers\n",
    "    if i%2==0:\n",
    "        continue\n",
    "    filtered_set.append(i)\n",
    "print(set(filtered_set))"
   ]
  },
  {
   "cell_type": "code",
   "execution_count": 117,
   "id": "822cb377-2ae2-41fe-8676-94eba50e511c",
   "metadata": {},
   "outputs": [
    {
     "name": "stdout",
     "output_type": "stream",
     "text": [
      "{8, 2, 10, 4}\n"
     ]
    }
   ],
   "source": [
    "#Q27]\n",
    "#creating a set of numbers\n",
    "set_num = {1,2,4,5}\n",
    "set_mul = set([])\n",
    "#iterating the set_num\n",
    "for i in set_num:\n",
    "    #multiplying individual elements by 2\n",
    "    set_mul.add(i*2)\n",
    "print(set_mul)\n",
    "    \n"
   ]
  },
  {
   "cell_type": "code",
   "execution_count": 120,
   "id": "fa292e5a-bb4d-4b03-a7a6-962d2dd9b195",
   "metadata": {},
   "outputs": [
    {
     "name": "stdout",
     "output_type": "stream",
     "text": [
      "{36, 38, 84, 86, 87, 93}\n"
     ]
    }
   ],
   "source": [
    "#Q28]\n",
    "import random\n",
    "set_random = set()\n",
    "#using for loop to iterate for a random number of times\n",
    "for i in range(random.randint(1,6)):\n",
    "    #adding random numbers\n",
    "    set_random.add(random.randint(1,99))\n",
    "print(set_random)\n",
    "    "
   ]
  },
  {
   "cell_type": "code",
   "execution_count": 121,
   "id": "d531dc1a-a84c-4342-b20f-ec9873f2ebe1",
   "metadata": {},
   "outputs": [
    {
     "name": "stdout",
     "output_type": "stream",
     "text": [
      "Set is not Empty\n"
     ]
    }
   ],
   "source": [
    "#Q29]\n",
    "#creating a set\n",
    "set_num = {36, 38, 84, 86, 87, 93}\n",
    "#checking if the set is empty\n",
    "if len(set_num)>0:\n",
    "    print(\"Set is not Empty\")\n",
    "else:\n",
    "    print(\"Empty Set\")"
   ]
  },
  {
   "cell_type": "code",
   "execution_count": 135,
   "id": "b0bb2b1e-8ff1-4274-94c0-a8f1a5589245",
   "metadata": {},
   "outputs": [
    {
     "name": "stdout",
     "output_type": "stream",
     "text": [
      "{frozenset({3, 12, 4}), frozenset({5, 6, 7})}\n"
     ]
    }
   ],
   "source": [
    "#Q30]\n",
    "#creating a nested set using frozenset\n",
    "nested_set = set([frozenset({12,3,4}), frozenset({5,6,7})])\n",
    "print(nested_set)"
   ]
  },
  {
   "cell_type": "code",
   "execution_count": 137,
   "id": "7e0bb3f4-5ab8-4663-be5b-3c84f8091d2d",
   "metadata": {},
   "outputs": [
    {
     "name": "stdout",
     "output_type": "stream",
     "text": [
      "{36, 38, 86, 87, 93}\n"
     ]
    }
   ],
   "source": [
    "#Q31]\n",
    "#creating a set\n",
    "set_num = {36, 38, 84, 86, 87, 93}\n",
    "#discarding an element drom the set using discard\n",
    "set_num.discard(84)\n",
    "print(set_num)"
   ]
  },
  {
   "cell_type": "code",
   "execution_count": 139,
   "id": "237fd1cb-5551-45f1-b35b-9f77ea03730b",
   "metadata": {},
   "outputs": [
    {
     "name": "stdout",
     "output_type": "stream",
     "text": [
      "set2 is less than set1\n"
     ]
    }
   ],
   "source": [
    "#Q32]\n",
    "#creating 2 sets\n",
    "set1 = {1,2,4}\n",
    "set2 = {3,5,7}\n",
    "#comparing the sets\n",
    "if set1==set2:\n",
    "    print(\"set1 & set2 are equal\")\n",
    "elif set1<set2:\n",
    "    print(\"set1 is less than set2\")\n",
    "else:\n",
    "    print(\"set2 is less than set1\")"
   ]
  },
  {
   "cell_type": "code",
   "execution_count": 140,
   "id": "c3ce25f9-ca3f-466f-89db-4f697bc48d81",
   "metadata": {},
   "outputs": [
    {
     "name": "stdout",
     "output_type": "stream",
     "text": [
      "{'s', 'g', 'n', 'r', 'm', ' ', 't', 'o', 'f', 'e', 'i'}\n"
     ]
    }
   ],
   "source": [
    "#Q33]\n",
    "#creating a string\n",
    "s = 'set from string'\n",
    "#typecasting it to set\n",
    "print(set(s))"
   ]
  },
  {
   "cell_type": "code",
   "execution_count": 91,
   "id": "f551f026-2356-4092-add9-7ae4c4197209",
   "metadata": {},
   "outputs": [
    {
     "name": "stdout",
     "output_type": "stream",
     "text": [
      "Set Int:{1, 2, 3, 4, 5}\n"
     ]
    }
   ],
   "source": [
    "#Q34]\n",
    "#creating a set of string\n",
    "set_str={'1','2','3','4','5'}\n",
    "#converting it to set of integers using list comprehension\n",
    "set_int=set([int(i) for i in set_str])\n",
    "print(f\"Set Int:{set_int}\")"
   ]
  },
  {
   "cell_type": "code",
   "execution_count": 92,
   "id": "ee8cc502-9f7f-4f3b-80bc-562d7f63cb83",
   "metadata": {},
   "outputs": [
    {
     "name": "stdout",
     "output_type": "stream",
     "text": [
      "Set String:{'5', '2', '1', '3', '4'}\n"
     ]
    }
   ],
   "source": [
    "#Q35]\n",
    "#creating a set of integers\n",
    "set_int={1,2,3,4,5}\n",
    "#using list comprehension to acheive it\n",
    "set_str=set([str(i) for i in set_int])\n",
    "print(f\"Set String:{set_str}\")"
   ]
  },
  {
   "cell_type": "code",
   "execution_count": 94,
   "id": "1c1b174d-8053-4f42-b2a8-3c19190cce37",
   "metadata": {},
   "outputs": [
    {
     "name": "stdout",
     "output_type": "stream",
     "text": [
      "Set:{1, 2, 3, 4, 'hello'}\n"
     ]
    }
   ],
   "source": [
    "#Q36]\n",
    "#converting a tuple to set \n",
    "tuple_set=set((1,2,2,3,4,'hello'))\n",
    "print(f\"Set:{tuple_set}\")"
   ]
  },
  {
   "cell_type": "code",
   "execution_count": 95,
   "id": "9ab03124-4542-4058-ae7d-1850e4aee6be",
   "metadata": {},
   "outputs": [
    {
     "name": "stdout",
     "output_type": "stream",
     "text": [
      "Tuple :(1, 2, 3, 'hello')\n"
     ]
    }
   ],
   "source": [
    "#Q37]\n",
    "#creating a set from tuple\n",
    "set_tup={1,2,3,'hello'}\n",
    "print(f\"Tuple :{tuple(set_tup)}\")"
   ]
  },
  {
   "cell_type": "code",
   "execution_count": 96,
   "id": "89818760-9ee9-4aad-a736-c69b5b654a8b",
   "metadata": {},
   "outputs": [
    {
     "name": "stdout",
     "output_type": "stream",
     "text": [
      "Max:10000\n"
     ]
    }
   ],
   "source": [
    "#Q38]\n",
    "#creating a set\n",
    "set_max={1,2,2,98,10000}\n",
    "#using max() function to find the maximum value in the set\n",
    "print(f\"Max:{max(set_max)}\")"
   ]
  },
  {
   "cell_type": "code",
   "execution_count": 98,
   "id": "c2fd202a-f659-4be5-9dd1-1a768c4a27b9",
   "metadata": {},
   "outputs": [
    {
     "name": "stdout",
     "output_type": "stream",
     "text": [
      "Min:-10000\n"
     ]
    }
   ],
   "source": [
    "#Q39]\n",
    "#creating a set\n",
    "set_min={-10000,0,1,2,2,98,10000}\n",
    "#using built in min() function to find minimum value in the set\n",
    "print(f\"Min:{min(set_min)}\")"
   ]
  },
  {
   "cell_type": "code",
   "execution_count": 99,
   "id": "034e3cd5-25d3-40ef-b9d2-65ea82fc1d6a",
   "metadata": {},
   "outputs": [
    {
     "name": "stdin",
     "output_type": "stream",
     "text": [
      "Enter the limit 2\n",
      "Eneter the value 9\n",
      "Eneter the value 8\n"
     ]
    },
    {
     "name": "stdout",
     "output_type": "stream",
     "text": [
      "Input Set:{'9', '8'}\n"
     ]
    }
   ],
   "source": [
    "#Q40]\n",
    "#creating a set using set comprehensiontaking input from user\n",
    "n=int(input(\"Enter the limit\"))\n",
    "set_input={input('Eneter the value') for i in range(0,n)}\n",
    "print(f\"Input Set:{set_input}\")"
   ]
  },
  {
   "cell_type": "code",
   "execution_count": 100,
   "id": "e6359a15-a0bd-4f37-970a-31cf8250a521",
   "metadata": {},
   "outputs": [
    {
     "name": "stdout",
     "output_type": "stream",
     "text": [
      "Empty\n"
     ]
    }
   ],
   "source": [
    "#Q41]\n",
    "#creating two sets \n",
    "set1={1,2,3,4}\n",
    "set2={5,6,7,8}\n",
    "#checking if their intersection is empty\n",
    "if len(set1.intersection(set2))==0:\n",
    "    print(\"Empty\")"
   ]
  },
  {
   "cell_type": "code",
   "execution_count": 101,
   "id": "1161ff67-5bd1-42af-b572-e14309a3aedc",
   "metadata": {},
   "outputs": [
    {
     "name": "stdout",
     "output_type": "stream",
     "text": [
      "Fib Set:{0, 1, 2, 3, 34, 5, 8, 13, 21}\n"
     ]
    }
   ],
   "source": [
    "#42]\n",
    "#genrating a list of fibonacci series\n",
    "#typecasting the list to set\n",
    "a,b=0,1\n",
    "set_fib=[]\n",
    "for i in range(10):\n",
    "    set_fib.append(a)\n",
    "    a,b=b,a+b\n",
    "print(f\"Fib Set:{set(set_fib)}\")"
   ]
  },
  {
   "cell_type": "code",
   "execution_count": 102,
   "id": "ae277d25-9d9b-4085-a93f-862dbbdae652",
   "metadata": {},
   "outputs": [
    {
     "name": "stdout",
     "output_type": "stream",
     "text": [
      "New list: [1, 2]\n"
     ]
    }
   ],
   "source": [
    "#Q43]\n",
    "#creating a list of duplicates\n",
    "#type casting it to set to remove the duplicates\n",
    "l=[1,2,1,2,1,2]\n",
    "print(f\"New list: {list(set(l))}\")"
   ]
  },
  {
   "cell_type": "code",
   "execution_count": 104,
   "id": "b7df7210-a998-4836-8b8d-f493b7fc42d5",
   "metadata": {},
   "outputs": [
    {
     "name": "stdout",
     "output_type": "stream",
     "text": [
      "Have same elements\n"
     ]
    }
   ],
   "source": [
    "#Q44]\n",
    "#creating two sets \n",
    "s1 = {1,2,3,4,5,6}\n",
    "s2 = {1,2,3,4,5,6,1,2,4,5,6}\n",
    "#using for loop checking if sets have same elements regardless of their count\n",
    "for element in s1:\n",
    "    if element in s2:\n",
    "        continue\n",
    "    else:\n",
    "        print(\"Dont have same elements\")\n",
    "        break\n",
    "else:\n",
    "    print(\"Have same elements\")"
   ]
  },
  {
   "cell_type": "code",
   "execution_count": 106,
   "id": "738aa2f8-e887-4f20-b51b-2fe96a8e6793",
   "metadata": {},
   "outputs": [
    {
     "name": "stdin",
     "output_type": "stream",
     "text": [
      "Enter the n powers 2 of  you want to genrate 5\n"
     ]
    },
    {
     "name": "stdout",
     "output_type": "stream",
     "text": [
      "{1, 2, 4, 8, 16}\n"
     ]
    }
   ],
   "source": [
    "#Q45]\n",
    "#taking the value of n from user\n",
    "n=int(input(\"Enter the n powers 2 of  you want to genrate\"))\n",
    "#using list comprehension genrating the first n powers of 2 and type casting it to set\n",
    "print(set([2**i for i in range(n) ]))\n",
    "\n",
    "\n",
    "\n"
   ]
  },
  {
   "cell_type": "code",
   "execution_count": 41,
   "id": "f5b9a916-ff77-4bf9-be1f-a47fcaec1912",
   "metadata": {},
   "outputs": [
    {
     "name": "stdout",
     "output_type": "stream",
     "text": [
      "Common Elements :\n",
      "1\n",
      "4\n",
      "6\n"
     ]
    }
   ],
   "source": [
    "#Q46]\n",
    "#creating a set and a list\n",
    "list1 = [1,2,3,4,6]\n",
    "set1 = {1,4,6,90}\n",
    "#using .intersection method to find the common elements between them and iterating them using for loop to print it\n",
    "print(\"Common Elements :\")\n",
    "for element in set1.intersection(list1):\n",
    "    print(element)"
   ]
  },
  {
   "cell_type": "code",
   "execution_count": 108,
   "id": "36856c2b-0241-416d-b626-e0ce823b6fcc",
   "metadata": {},
   "outputs": [
    {
     "name": "stdin",
     "output_type": "stream",
     "text": [
      "Enter the nth number 3\n"
     ]
    },
    {
     "name": "stdout",
     "output_type": "stream",
     "text": [
      "Series :{1, 3, 6}\n"
     ]
    }
   ],
   "source": [
    "#Q47]\n",
    "#taking n from the user\n",
    "n=int(input(\"Enter the nth number\"))\n",
    "triang_set=set()\n",
    "#generating n triangular numbers using the formula and for loop\n",
    "for i in range(1,n+1):\n",
    "    tn = (i*(i+1))//2\n",
    "    triang_set.add(tn)\n",
    "print(f\"Series :{triang_set}\")"
   ]
  },
  {
   "cell_type": "code",
   "execution_count": 110,
   "id": "fffbe48e-8b1a-418d-8ebd-930e08c88d33",
   "metadata": {},
   "outputs": [
    {
     "name": "stdout",
     "output_type": "stream",
     "text": [
      "True\n"
     ]
    }
   ],
   "source": [
    "#Q48]\n",
    "#creating two sets\n",
    "s={1,2,3,4,5,6}\n",
    "s1={1,2,3}\n",
    "#checking if it is a subset using .issubset() method\n",
    "print(s1.issubset(s))"
   ]
  },
  {
   "cell_type": "code",
   "execution_count": 120,
   "id": "fe96daf9-87dc-4afa-9597-1d55023ba847",
   "metadata": {},
   "outputs": [
    {
     "name": "stdin",
     "output_type": "stream",
     "text": [
      "Enter the nth value 2\n"
     ]
    },
    {
     "name": "stdout",
     "output_type": "stream",
     "text": [
      "{0, 1}\n"
     ]
    }
   ],
   "source": [
    "#Q49]\n",
    "#taking the limit n from user\n",
    "n=int(input(\"Enter the nth value\"))\n",
    "print(set([1 if i%2!=0 else 0 for i in range(1,n+1)]))\n"
   ]
  },
  {
   "cell_type": "code",
   "execution_count": 122,
   "id": "49ec7e11-2996-4888-9dbb-300bca8489a0",
   "metadata": {},
   "outputs": [
    {
     "name": "stdout",
     "output_type": "stream",
     "text": [
      "{1, 2, 3, 4, 5}\n"
     ]
    }
   ],
   "source": [
    "#Q50]\n",
    "#creating three set of numbers\n",
    "s1={1}\n",
    "s2={2,3}\n",
    "s3={4,5}\n",
    "#finding their union using .union() method\n",
    "print(s1.union(s2,s3))\n"
   ]
  }
 ],
 "metadata": {
  "kernelspec": {
   "display_name": "Python 3 (ipykernel)",
   "language": "python",
   "name": "python3"
  },
  "language_info": {
   "codemirror_mode": {
    "name": "ipython",
    "version": 3
   },
   "file_extension": ".py",
   "mimetype": "text/x-python",
   "name": "python",
   "nbconvert_exporter": "python",
   "pygments_lexer": "ipython3",
   "version": "3.10.8"
  }
 },
 "nbformat": 4,
 "nbformat_minor": 5
}
